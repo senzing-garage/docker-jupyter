{
 "cells": [
  {
   "cell_type": "markdown",
   "metadata": {},
   "source": [
    "# Initialize Senzing"
   ]
  },
  {
   "cell_type": "markdown",
   "metadata": {},
   "source": [
    "This notebook initializes Senzing files for running Senzing notebooks.\n",
    "It copies files from `/opt/senzing/g2/resources/templates`\n",
    "into the appropriate places in the\n",
    "`/etc/opt/senzing` and `/var/opt/senzing` directories\n",
    "or directories specified by the environment variables:\n",
    "`SENZING_G2_DIR`,\n",
    "`SENZING_ETC_DIR`, and\n",
    "`SENZING_VAR_DIR`."
   ]
  },
  {
   "cell_type": "code",
   "execution_count": null,
   "metadata": {},
   "outputs": [],
   "source": [
    "import os\n",
    "import shutil\n",
    "import sys\n",
    "from pathlib import Path"
   ]
  },
  {
   "cell_type": "markdown",
   "metadata": {},
   "source": [
    "## System path"
   ]
  },
  {
   "cell_type": "code",
   "execution_count": null,
   "metadata": {},
   "outputs": [],
   "source": [
    "etc_dir = os.environ.get(\"SENZING_ETC_DIR\", \"/etc/opt/senzing\")\n",
    "g2_dir = os.environ.get(\"SENZING_G2_DIR\", \"/opt/senzing/g2\")\n",
    "var_dir = os.environ.get(\"SENZING_VAR_DIR\", \"/var/opt/senzing\")"
   ]
  },
  {
   "cell_type": "code",
   "execution_count": null,
   "metadata": {},
   "outputs": [],
   "source": [
    "python_path = \"{0}/sdk/python\".format(g2_dir)\n",
    "sys.path.append(python_path)"
   ]
  },
  {
   "cell_type": "markdown",
   "metadata": {},
   "source": [
    "## Identify template files"
   ]
  },
  {
   "cell_type": "code",
   "execution_count": null,
   "metadata": {},
   "outputs": [],
   "source": [
    "template_file_names = [\n",
    "    \"cfgVariant.json.template\",\n",
    "    \"customOn.txt.template\",\n",
    "    \"defaultGNRCP.config.template\",\n",
    "    \"g2config.json.template\",\n",
    "    \"G2Project.ini.template\",\n",
    "    \"customGn.txt.template\",\n",
    "    \"customSn.txt.template\",\n",
    "    \"G2Module.ini.template\",\n",
    "    \"stb.config.template\",\n",
    "]"
   ]
  },
  {
   "cell_type": "markdown",
   "metadata": {},
   "source": [
    "## Create a list of files to copy"
   ]
  },
  {
   "cell_type": "code",
   "execution_count": null,
   "metadata": {},
   "outputs": [],
   "source": [
    "files = [\n",
    "    {\n",
    "        \"source_file\": \"{0}/resources/templates/G2C.db.template\".format(g2_dir),\n",
    "        \"target_file\": \"{0}/sqlite/G2C.db\".format(var_dir),\n",
    "    }\n",
    "]\n",
    "\n",
    "for template_file_name in template_file_names:\n",
    "    actual_file_name = Path(template_file_name).stem\n",
    "    from_templates = {\n",
    "        \"source_file\": \"{0}/resources/templates/{1}\".format(g2_dir, template_file_name),\n",
    "        \"target_file\": \"{0}/{1}\".format(etc_dir, actual_file_name),\n",
    "    }\n",
    "    files.append(from_templates)"
   ]
  },
  {
   "cell_type": "markdown",
   "metadata": {},
   "source": [
    "## Copy files"
   ]
  },
  {
   "cell_type": "code",
   "execution_count": null,
   "metadata": {},
   "outputs": [],
   "source": [
    "for file in files:\n",
    "    source_file = file.get(\"source_file\")\n",
    "    target_file = file.get(\"target_file\")\n",
    "\n",
    "    # Check if source file exists.\n",
    "\n",
    "    if not os.path.exists(source_file):\n",
    "        continue\n",
    "\n",
    "    # If source file exists and the target doesn't exist, copy.\n",
    "\n",
    "    if not os.path.exists(target_file):\n",
    "        os.makedirs(os.path.dirname(target_file), exist_ok=True)\n",
    "        shutil.copyfile(source_file, target_file)"
   ]
  }
 ],
 "metadata": {
  "kernelspec": {
   "display_name": "Python 3",
   "language": "python",
   "name": "python3"
  },
  "language_info": {
   "codemirror_mode": {
    "name": "ipython",
    "version": 3
   },
   "file_extension": ".py",
   "mimetype": "text/x-python",
   "name": "python",
   "nbconvert_exporter": "python",
   "pygments_lexer": "ipython3",
   "version": "3.7.6"
  },
  "toc": {
   "base_numbering": 1,
   "nav_menu": {},
   "number_sections": true,
   "sideBar": true,
   "skip_h1_title": false,
   "title_cell": "Table of Contents",
   "title_sidebar": "Contents",
   "toc_cell": false,
   "toc_position": {},
   "toc_section_display": true,
   "toc_window_display": true
  }
 },
 "nbformat": 4,
 "nbformat_minor": 2
}
