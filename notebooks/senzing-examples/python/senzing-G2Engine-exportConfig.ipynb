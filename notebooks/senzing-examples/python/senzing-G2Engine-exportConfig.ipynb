{
 "cells": [
  {
   "cell_type": "markdown",
   "metadata": {},
   "source": [
    "# G2Engine Guide - Export configuration\n",
    "\n",
    "The `exportConfig()` method creates a JSON string with information about the Senzing engine's configuration.\n",
    "\n",
    "More information:\n",
    "\n",
    "* [G2Engine Reference](senzing-G2Engine-reference.ipynb)"
   ]
  },
  {
   "cell_type": "markdown",
   "metadata": {},
   "source": [
    "## Prepare Environment"
   ]
  },
  {
   "cell_type": "code",
   "execution_count": null,
   "metadata": {},
   "outputs": [],
   "source": [
    "import os\n",
    "import sys\n",
    "import json\n",
    "\n",
    "# For RenderJSON\n",
    "\n",
    "import uuid\n",
    "from IPython.display import display_javascript, display_html, display"
   ]
  },
  {
   "cell_type": "markdown",
   "metadata": {},
   "source": [
    "### Helper class for JSON rendering"
   ]
  },
  {
   "cell_type": "code",
   "execution_count": null,
   "metadata": {},
   "outputs": [],
   "source": [
    "class RenderJSON(object):\n",
    "    def __init__(self, json_data):\n",
    "        if isinstance(json_data, dict):\n",
    "            self.json_str = json.dumps(json_data)\n",
    "        elif isinstance(json_data, bytearray):\n",
    "            self.json_str = json_data.decode()\n",
    "        else:\n",
    "            self.json_str = json_data\n",
    "        self.uuid = str(uuid.uuid4())\n",
    "\n",
    "    def _ipython_display_(self):\n",
    "        display_html('<div id=\"{}\" style=\"height:100%; width:100%; background-color: LightCyan\"></div>'.format(self.uuid), raw=True)\n",
    "        display_javascript(\"\"\"\n",
    "        require([\"https://rawgit.com/caldwell/renderjson/master/renderjson.js\"], function() {\n",
    "        document.getElementById('%s').appendChild(renderjson(%s))\n",
    "        });\n",
    "        \"\"\" % (self.uuid, self.json_str), raw=True)"
   ]
  },
  {
   "cell_type": "markdown",
   "metadata": {},
   "source": [
    "### System path\n",
    "\n",
    "Update system path."
   ]
  },
  {
   "cell_type": "code",
   "execution_count": null,
   "metadata": {},
   "outputs": [],
   "source": [
    "python_path = \"{0}/sdk/python\".format(\n",
    "    os.environ.get(\"SENZING_G2_DIR\", \"/opt/senzing/g2\"))\n",
    "sys.path.append(python_path)"
   ]
  },
  {
   "cell_type": "markdown",
   "metadata": {},
   "source": [
    "### Initialize variables\n",
    "\n",
    "Create variables used in `exportConfig()`."
   ]
  },
  {
   "cell_type": "code",
   "execution_count": null,
   "metadata": {},
   "outputs": [],
   "source": [
    "%run senzing-init-config.ipynb"
   ]
  },
  {
   "cell_type": "code",
   "execution_count": null,
   "metadata": {},
   "outputs": [],
   "source": [
    "%store -r senzing_config_json"
   ]
  },
  {
   "cell_type": "code",
   "execution_count": null,
   "metadata": {},
   "outputs": [],
   "source": [
    "RenderJSON(senzing_config_json)"
   ]
  },
  {
   "cell_type": "markdown",
   "metadata": {},
   "source": [
    "## G2Engine\n",
    "\n",
    "The G2Engine API..."
   ]
  },
  {
   "cell_type": "code",
   "execution_count": null,
   "metadata": {},
   "outputs": [],
   "source": [
    "from senzing import G2Engine, G2Exception"
   ]
  },
  {
   "cell_type": "markdown",
   "metadata": {},
   "source": [
    "### G2Engine initialization\n",
    "\n",
    "Details at [G2Engine initialization](senzing-G2Engine-reference.ipynb#G2Engine-initialization)."
   ]
  },
  {
   "cell_type": "code",
   "execution_count": null,
   "metadata": {},
   "outputs": [],
   "source": [
    "g2_engine = G2Engine()\n",
    "try:\n",
    "    g2_engine.init(module_name, senzing_config_json, verbose_logging)\n",
    "\n",
    "except G2Exception as err:\n",
    "    print(g2_engine.getLastException())"
   ]
  },
  {
   "cell_type": "markdown",
   "metadata": {},
   "source": [
    "### exportConfig()\n",
    "\n",
    "Call G2 Module's `exportConfig()` method and pretty-print results.\n",
    "\n",
    "Details at [G2Engine.exportConfig](senzing-G2Engine-reference.ipynb#exportConfig)."
   ]
  },
  {
   "cell_type": "code",
   "execution_count": null,
   "metadata": {},
   "outputs": [],
   "source": [
    "response_bytearray = bytearray()\n",
    "config_id = bytearray()\n",
    "try:\n",
    "    g2_engine.exportConfig(response_bytearray, config_id)\n",
    "\n",
    "    print(\"Configuration ID: {0}\".format(config_id.decode()))\n",
    "\n",
    "except G2Exception as err:\n",
    "    print(g2_engine.getLastException())\n",
    "RenderJSON(response_bytearray)"
   ]
  }
 ],
 "metadata": {
  "kernelspec": {
   "display_name": "Python 3 (ipykernel)",
   "language": "python",
   "name": "python3"
  },
  "language_info": {
   "codemirror_mode": {
    "name": "ipython",
    "version": 3
   },
   "file_extension": ".py",
   "mimetype": "text/x-python",
   "name": "python",
   "nbconvert_exporter": "python",
   "pygments_lexer": "ipython3",
   "version": "3.7.8"
  },
  "toc": {
   "base_numbering": 1,
   "nav_menu": {},
   "number_sections": true,
   "sideBar": true,
   "skip_h1_title": true,
   "title_cell": "Table of Contents",
   "title_sidebar": "Contents",
   "toc_cell": false,
   "toc_position": {},
   "toc_section_display": true,
   "toc_window_display": true
  }
 },
 "nbformat": 4,
 "nbformat_minor": 2
}
