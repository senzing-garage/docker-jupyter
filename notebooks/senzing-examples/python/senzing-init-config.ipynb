{
 "cells": [
  {
   "cell_type": "markdown",
   "metadata": {},
   "source": [
    "# Initialize Senzing"
   ]
  },
  {
   "cell_type": "markdown",
   "metadata": {},
   "source": [
    "This notebook initializes the Senzing Engine configuration in the database for running Senzing notebooks."
   ]
  },
  {
   "cell_type": "code",
   "execution_count": 1,
   "metadata": {},
   "outputs": [],
   "source": [
    "import json\n",
    "import os\n",
    "import sys\n",
    "import time"
   ]
  },
  {
   "cell_type": "markdown",
   "metadata": {},
   "source": [
    "## System path"
   ]
  },
  {
   "cell_type": "code",
   "execution_count": 2,
   "metadata": {},
   "outputs": [],
   "source": [
    "data_dir = os.environ.get(\"SENZING_DATA_DIR\", \"/opt/senzing/data\")\n",
    "etc_dir = os.environ.get(\"SENZING_ETC_DIR\", \"/etc/opt/senzing\")\n",
    "g2_dir = os.environ.get(\"SENZING_G2_DIR\", \"/opt/senzing/g2\")"
   ]
  },
  {
   "cell_type": "code",
   "execution_count": 3,
   "metadata": {},
   "outputs": [],
   "source": [
    "python_path = \"{0}/python\".format(g2_dir)\n",
    "sys.path.append(python_path)"
   ]
  },
  {
   "cell_type": "markdown",
   "metadata": {},
   "source": [
    "## Create Senzing configuration\n",
    "\n",
    "Create, `senzing_config_json`, a JSON string.\n",
    "Although there are default values,\n",
    "they can be over-written by operating system environment variables.\n",
    "It will be stored for use by other notebooks."
   ]
  },
  {
   "cell_type": "code",
   "execution_count": 4,
   "metadata": {},
   "outputs": [
    {
     "name": "stdout",
     "output_type": "stream",
     "text": [
      "Stored 'senzing_config_json' (str)\n"
     ]
    }
   ],
   "source": [
    "config_path = etc_dir\n",
    "support_path = os.environ.get(\"SENZING_DATA_VERSION_DIR\", data_dir)\n",
    "resource_path = \"{0}/resources\".format(g2_dir)\n",
    "\n",
    "sql_connection = os.environ.get(\n",
    "    \"SENZING_SQL_CONNECTION\", \"sqlite3://na:na@/var/opt/senzing/sqlite/G2C.db\")\n",
    "\n",
    "senzing_config_dictionary = {\n",
    "    \"PIPELINE\": {\n",
    "        \"CONFIGPATH\": config_path,\n",
    "        \"SUPPORTPATH\": support_path,\n",
    "        \"RESOURCEPATH\": resource_path\n",
    "    },\n",
    "    \"SQL\": {\n",
    "        \"CONNECTION\": sql_connection,\n",
    "    }\n",
    "}\n",
    "\n",
    "senzing_config_json = json.dumps(senzing_config_dictionary)\n",
    "%store senzing_config_json"
   ]
  },
  {
   "cell_type": "markdown",
   "metadata": {},
   "source": [
    "## Initialize variables"
   ]
  },
  {
   "cell_type": "code",
   "execution_count": 5,
   "metadata": {},
   "outputs": [],
   "source": [
    "module_name = 'pyG2'\n",
    "verbose_logging = False"
   ]
  },
  {
   "cell_type": "markdown",
   "metadata": {},
   "source": [
    "## Initialize a G2ConfigMgr instance"
   ]
  },
  {
   "cell_type": "code",
   "execution_count": 6,
   "metadata": {},
   "outputs": [],
   "source": [
    "from senzing import G2ConfigMgr, G2Exception\n",
    "g2_configuration_manager = G2ConfigMgr()\n",
    "try:\n",
    "    g2_configuration_manager.init(\n",
    "        module_name,\n",
    "        senzing_config_json,\n",
    "        verbose_logging)\n",
    "\n",
    "except G2Exception.G2ModuleGenericException as err:\n",
    "    print(g2_configuration_manager.getLastException())"
   ]
  },
  {
   "cell_type": "markdown",
   "metadata": {},
   "source": [
    "## Ensure a default configuration exists\n",
    "\n",
    "If a Senzing default configuration does not exist in the database,\n",
    "create a G2Config instance to be used in creating a default configuration."
   ]
  },
  {
   "cell_type": "code",
   "execution_count": 7,
   "metadata": {},
   "outputs": [
    {
     "name": "stdout",
     "output_type": "stream",
     "text": [
      "Default config already set\n",
      "Stored 'config_id_bytearray' (bytearray)\n"
     ]
    }
   ],
   "source": [
    "config_id_bytearray = bytearray()\n",
    "try:\n",
    "    g2_configuration_manager.getDefaultConfigID(config_id_bytearray)\n",
    "    if config_id_bytearray:\n",
    "        print(\"Default config already set\")\n",
    "        %store config_id_bytearray\n",
    "\n",
    "    else:\n",
    "        print(\"No default configuration set, creating one in the Senzing repository\")\n",
    "        # Create a G2Config instance.\n",
    "\n",
    "        from G2Config import G2Config\n",
    "        g2_config = G2Config()\n",
    "        try:\n",
    "            g2_config.initV2(module_name, senzing_config_json, verbose_logging)\n",
    "\n",
    "            # Create configuration from template file.\n",
    "\n",
    "            config_handle = g2_config.create()\n",
    "\n",
    "            # Save Senzing configuration to string.\n",
    "\n",
    "            response_bytearray = bytearray()\n",
    "            g2_config.save(config_handle, response_bytearray)\n",
    "            senzing_model_config_str = response_bytearray.decode()\n",
    "\n",
    "        except G2Exception.G2ModuleGenericException as err:\n",
    "            print(g2_config.getLastException())\n",
    "\n",
    "        # Externalize Senzing configuration to the database.\n",
    "\n",
    "        config_comment = \"senzing-init.ipynb added at {0}\".format(time.time())\n",
    "        config_id_bytearray = bytearray()\n",
    "        try:\n",
    "            g2_configuration_manager.addConfig(\n",
    "                senzing_model_config_str,\n",
    "                config_comment,\n",
    "                config_id_bytearray)\n",
    "\n",
    "            # Set new configuration as the default.\n",
    "\n",
    "            g2_configuration_manager.setDefaultConfigID(config_id_bytearray)\n",
    "        except G2Exception.G2ModuleGenericException as err:\n",
    "            print(g2_configuration_manager.getLastException())\n",
    "\n",
    "except G2Exception.G2ModuleGenericException as err:\n",
    "    print(g2_configuration_manager.getLastException())"
   ]
  }
 ],
 "metadata": {
  "kernelspec": {
   "display_name": "Python 3 (ipykernel)",
   "language": "python",
   "name": "python3"
  },
  "language_info": {
   "codemirror_mode": {
    "name": "ipython",
    "version": 3
   },
   "file_extension": ".py",
   "mimetype": "text/x-python",
   "name": "python",
   "nbconvert_exporter": "python",
   "pygments_lexer": "ipython3",
   "version": "3.7.8"
  },
  "toc": {
   "base_numbering": 1,
   "nav_menu": {},
   "number_sections": true,
   "sideBar": true,
   "skip_h1_title": false,
   "title_cell": "Table of Contents",
   "title_sidebar": "Contents",
   "toc_cell": false,
   "toc_position": {},
   "toc_section_display": true,
   "toc_window_display": true
  }
 },
 "nbformat": 4,
 "nbformat_minor": 2
}
