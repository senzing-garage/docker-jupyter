{
 "cells": [
  {
   "cell_type": "markdown",
   "metadata": {},
   "source": [
    "# Create redo records\n",
    "\n",
    "This Jupyter notebook shows how to create a Senzing \"redo record\".\n",
    "It assumes a G2 database that is empty.\n",
    "\n",
    "Essentially the steps are to create very similar records under different data sources,\n",
    "then delete one of the records.  This produces a \"redo record\"."
   ]
  },
  {
   "cell_type": "markdown",
   "metadata": {},
   "source": [
    "## Prepare environment"
   ]
  },
  {
   "cell_type": "markdown",
   "metadata": {},
   "source": [
    "### Initialize Senzing configuration\n",
    "\n",
    "Run [senzing-G2ConfigMgr-reference.ipynb](senzing-G2ConfigMgr-reference.ipynb)\n",
    "to install a Senzing Engine configuration in the database."
   ]
  },
  {
   "cell_type": "markdown",
   "metadata": {},
   "source": [
    "### Initialize python environment"
   ]
  },
  {
   "cell_type": "code",
   "execution_count": null,
   "metadata": {},
   "outputs": [],
   "source": [
    "import os\n",
    "import sys\n",
    "import json\n",
    "\n",
    "# For RenderJSON\n",
    "\n",
    "import uuid\n",
    "from IPython.display import display_javascript, display_html, display"
   ]
  },
  {
   "cell_type": "markdown",
   "metadata": {},
   "source": [
    "### Helper class for JSON rendering\n",
    "\n",
    "A class for pretty-printing JSON.\n",
    "Not required by Senzing,\n",
    "but helps visualize JSON."
   ]
  },
  {
   "cell_type": "code",
   "execution_count": null,
   "metadata": {},
   "outputs": [],
   "source": [
    "class RenderJSON(object):\n",
    "    def __init__(self, json_data):\n",
    "        if isinstance(json_data, dict):\n",
    "            self.json_str = json.dumps(json_data)\n",
    "        elif isinstance(json_data, bytearray):\n",
    "            self.json_str = json_data.decode()\n",
    "        else:\n",
    "            self.json_str = json_data\n",
    "        self.uuid = str(uuid.uuid4())\n",
    "\n",
    "    def _ipython_display_(self):\n",
    "        display_html('<div id=\"{}\" style=\"height:100%; width:100%; background-color: LightCyan\"></div>'.format(self.uuid), raw=True)\n",
    "        display_javascript(\"\"\"\n",
    "        require([\"https://rawgit.com/caldwell/renderjson/master/renderjson.js\"], function() {\n",
    "        document.getElementById('%s').appendChild(renderjson(%s))\n",
    "        });\n",
    "        \"\"\" % (self.uuid, self.json_str), raw=True)"
   ]
  },
  {
   "cell_type": "markdown",
   "metadata": {},
   "source": [
    "### System path\n",
    "\n",
    "Update system path."
   ]
  },
  {
   "cell_type": "code",
   "execution_count": null,
   "metadata": {},
   "outputs": [],
   "source": [
    "python_path = \"{0}/sdk/python\".format(\n",
    "    os.environ.get(\"SENZING_G2_DIR\", \"/opt/senzing/g2\"))\n",
    "sys.path.append(python_path)"
   ]
  },
  {
   "cell_type": "markdown",
   "metadata": {},
   "source": [
    "### Initialize variables\n",
    "\n",
    "Create variables used for G2Engine."
   ]
  },
  {
   "cell_type": "code",
   "execution_count": null,
   "metadata": {
    "scrolled": true
   },
   "outputs": [],
   "source": [
    "%run senzing-init-config.ipynb"
   ]
  },
  {
   "cell_type": "code",
   "execution_count": null,
   "metadata": {},
   "outputs": [],
   "source": [
    "%store -r senzing_config_json"
   ]
  },
  {
   "cell_type": "code",
   "execution_count": null,
   "metadata": {},
   "outputs": [],
   "source": [
    "RenderJSON(senzing_config_json)"
   ]
  },
  {
   "cell_type": "markdown",
   "metadata": {},
   "source": [
    "## G2Engine"
   ]
  },
  {
   "cell_type": "markdown",
   "metadata": {},
   "source": [
    "### Senzing initialization\n",
    "\n",
    "Create an instance of G2Engine, G2ConfigMgr, and G2Config."
   ]
  },
  {
   "cell_type": "code",
   "execution_count": null,
   "metadata": {},
   "outputs": [],
   "source": [
    "from senzing import G2Config, G2ConfigMgr, G2Engine, G2EngineFlags"
   ]
  },
  {
   "cell_type": "code",
   "execution_count": null,
   "metadata": {
    "scrolled": false
   },
   "outputs": [],
   "source": [
    "g2_engine = G2Engine()\n",
    "try:\n",
    "    g2_engine_flags = G2EngineFlags.G2_EXPORT_DEFAULT_FLAGS\n",
    "\n",
    "    g2_engine.init(\n",
    "        \"pyG2EngineForRedoRecords\",\n",
    "        senzing_config_json,\n",
    "        verbose_logging)\n",
    "except G2Exception.G2ModuleGenericException as err:\n",
    "    print(g2_engine.getLastException())"
   ]
  },
  {
   "cell_type": "code",
   "execution_count": null,
   "metadata": {},
   "outputs": [],
   "source": [
    "g2_configuration_manager = G2ConfigMgr()\n",
    "try:\n",
    "\n",
    "\n",
    "    g2_configuration_manager.init(\n",
    "        \"pyG2ConfigMgrForRedoRecords\",\n",
    "        senzing_config_json,\n",
    "        verbose_logging)\n",
    "except G2Exception.G2ModuleGenericException as err:\n",
    "    print(g2_configuration_manager.getLastException())"
   ]
  },
  {
   "cell_type": "code",
   "execution_count": null,
   "metadata": {},
   "outputs": [],
   "source": [
    "g2_config = G2Config()\n",
    "try:\n",
    "    g2_config.init(\n",
    "        \"pyG2ConfigForRedoRecords\",\n",
    "        senzing_config_json,\n",
    "        verbose_logging)\n",
    "    config_handle = g2_config.create()\n",
    "except G2Exception.G2ModuleGenericException as err:\n",
    "    print(g2_config.getLastException())"
   ]
  },
  {
   "cell_type": "markdown",
   "metadata": {},
   "source": [
    "### primeEngine"
   ]
  },
  {
   "cell_type": "code",
   "execution_count": null,
   "metadata": {},
   "outputs": [],
   "source": [
    "try:\n",
    "    g2_engine.primeEngine()\n",
    "except G2Exception.G2ModuleGenericException as err:\n",
    "    print(g2_engine.getLastException())"
   ]
  },
  {
   "cell_type": "markdown",
   "metadata": {},
   "source": [
    "### Variable initialization"
   ]
  },
  {
   "cell_type": "code",
   "execution_count": null,
   "metadata": {},
   "outputs": [],
   "source": [
    "load_id = None"
   ]
  },
  {
   "cell_type": "markdown",
   "metadata": {},
   "source": [
    "### Create add data source function\n",
    "\n",
    "Create a data source with a name having the form `TEST_DATA_SOURCE_nnn`."
   ]
  },
  {
   "cell_type": "code",
   "execution_count": null,
   "metadata": {},
   "outputs": [],
   "source": [
    "def add_data_source(datasource_suffix):\n",
    "    response = bytearray()\n",
    "    datasource_prefix = \"TEST_DATA_SOURCE_\"\n",
    "    datasource_id = \"{0}{1}\".format(datasource_prefix, datasource_suffix)\n",
    "    configuration_comment = \"Added {}\".format(datasource_id)\n",
    "    g2_config.addDataSource(config_handle, datasource_id, response)\n",
    "    configuration_bytearray = bytearray()\n",
    "    return_code = g2_config.save(config_handle, configuration_bytearray)\n",
    "    configuration_json = configuration_bytearray.decode()\n",
    "    configuration_id_bytearray = bytearray()\n",
    "    g2_configuration_manager.addConfig(configuration_json, configuration_comment, configuration_id_bytearray)\n",
    "    g2_configuration_manager.setDefaultConfigID(configuration_id_bytearray)\n",
    "    g2_engine.reinitV2(configuration_id_bytearray)"
   ]
  },
  {
   "cell_type": "markdown",
   "metadata": {},
   "source": [
    "### Create add record function\n",
    "\n",
    "Create a record with the id having the form `RECORD_nnn`.\n",
    "**Note:** this is essentially the same record with only the `DRIVERS_LICENSE_NUMBER` modified slightly."
   ]
  },
  {
   "cell_type": "code",
   "execution_count": null,
   "metadata": {
    "scrolled": true
   },
   "outputs": [],
   "source": [
    "def add_record(record_id_suffix, datasource_suffix):\n",
    "    datasource_prefix = \"TEST_DATA_SOURCE_\"\n",
    "    record_id_prefix = \"RECORD_\"\n",
    "    datasource_id = \"{0}{1}\".format(datasource_prefix, datasource_suffix)\n",
    "    record_id = \"{0}{1}\".format(record_id_prefix, record_id_suffix)\n",
    "    data = {\n",
    "        \"NAMES\": [{\n",
    "            \"NAME_TYPE\": \"PRIMARY\",\n",
    "            \"NAME_LAST\": \"Smith\",\n",
    "            \"NAME_FIRST\": \"John\",\n",
    "            \"NAME_MIDDLE\": \"M\"\n",
    "        }],\n",
    "        \"PASSPORT_NUMBER\": \"PP11111\",\n",
    "        \"PASSPORT_COUNTRY\": \"US\",\n",
    "        \"DRIVERS_LICENSE_NUMBER\": \"DL1{:04d}\".format(record_id_suffix),\n",
    "        \"SSN_NUMBER\": \"111-11-1111\"\n",
    "    }\n",
    "    data_as_json = json.dumps(data)\n",
    "    g2_engine.addRecord(\n",
    "        datasource_id,\n",
    "        record_id,\n",
    "        data_as_json,\n",
    "        load_id)"
   ]
  },
  {
   "cell_type": "markdown",
   "metadata": {},
   "source": [
    "## Redo record"
   ]
  },
  {
   "cell_type": "markdown",
   "metadata": {},
   "source": [
    "### Print data sources\n",
    "\n",
    "Print the list of currently defined data sources."
   ]
  },
  {
   "cell_type": "code",
   "execution_count": null,
   "metadata": {},
   "outputs": [],
   "source": [
    "try:\n",
    "    datasources_bytearray = bytearray()\n",
    "    g2_config.listDataSources(config_handle, datasources_bytearray)\n",
    "    datasources_dictionary = json.loads(datasources_bytearray.decode())\n",
    "    \n",
    "except G2Exception.G2ModuleGenericException as err:\n",
    "    print(g2_config.getLastException())\n",
    "    \n",
    "RenderJSON(datasources_dictionary)"
   ]
  },
  {
   "cell_type": "markdown",
   "metadata": {},
   "source": [
    "### Add data sources and records"
   ]
  },
  {
   "cell_type": "code",
   "execution_count": null,
   "metadata": {},
   "outputs": [],
   "source": [
    "try:\n",
    "    add_data_source(1)\n",
    "    add_record(1,1)\n",
    "    add_record(2,1)\n",
    "    add_data_source(2)\n",
    "    add_record(3,2)\n",
    "    add_record(4,2)\n",
    "    add_data_source(3)\n",
    "    add_record(5,3)\n",
    "    add_record(6,3)\n",
    "except G2Exception as err:\n",
    "    print(g2_engine.getLastException())"
   ]
  },
  {
   "cell_type": "markdown",
   "metadata": {},
   "source": [
    "### Delete record\n",
    "\n",
    "Deleting a record will create a \"redo record\"."
   ]
  },
  {
   "cell_type": "code",
   "execution_count": null,
   "metadata": {},
   "outputs": [],
   "source": [
    "try:\n",
    "    g2_engine.deleteRecord(\"TEST\", \"RECORD_5\", load_id)\n",
    "except G2Exception as err:\n",
    "    print(g2_engine.getLastException())"
   ]
  },
  {
   "cell_type": "markdown",
   "metadata": {},
   "source": [
    "### Count redo records\n",
    "\n",
    "The `count_of_redo_records` will show how many redo records are in Senzing's queue of redo records. "
   ]
  },
  {
   "cell_type": "code",
   "execution_count": null,
   "metadata": {},
   "outputs": [],
   "source": [
    "try:\n",
    "    count_of_redo_records = g2_engine.countRedoRecords()\n",
    "\n",
    "    print(\"Number of redo records: {0}\".format(count_of_redo_records))\n",
    "except G2Exception.G2ModuleGenericException as err:\n",
    "    print(g2_engine.getLastException())"
   ]
  },
  {
   "cell_type": "markdown",
   "metadata": {},
   "source": [
    "### Print data sources again\n",
    "\n",
    "Print the list of currently defined data sources."
   ]
  },
  {
   "cell_type": "code",
   "execution_count": null,
   "metadata": {},
   "outputs": [],
   "source": [
    "try:\n",
    "    datasources_bytearray = bytearray()\n",
    "    g2_config.listDataSources(config_handle, datasources_bytearray)\n",
    "    datasources_dictionary = json.loads(datasources_bytearray.decode())\n",
    "    \n",
    "except G2Exception.G2ModuleGenericException as err:\n",
    "    print(g2_config.getLastException())\n",
    "    \n",
    "RenderJSON(datasources_dictionary)"
   ]
  }
 ],
 "metadata": {
  "kernelspec": {
   "display_name": "Python 3",
   "language": "python",
   "name": "python3"
  },
  "language_info": {
   "codemirror_mode": {
    "name": "ipython",
    "version": 3
   },
   "file_extension": ".py",
   "mimetype": "text/x-python",
   "name": "python",
   "nbconvert_exporter": "python",
   "pygments_lexer": "ipython3",
   "version": "3.7.8"
  },
  "toc": {
   "base_numbering": 1,
   "nav_menu": {},
   "number_sections": true,
   "sideBar": true,
   "skip_h1_title": true,
   "title_cell": "Table of Contents",
   "title_sidebar": "Contents",
   "toc_cell": false,
   "toc_position": {},
   "toc_section_display": true,
   "toc_window_display": true
  }
 },
 "nbformat": 4,
 "nbformat_minor": 2
}
