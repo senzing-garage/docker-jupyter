{
 "cells": [
  {
   "cell_type": "markdown",
   "metadata": {},
   "source": [
    "# G2Engine Guide - Why Entities\n",
    "\n",
    "More information:\n",
    "\n",
    "* [G2Engine Reference](senzing-G2Engine-reference.ipynb)"
   ]
  },
  {
   "cell_type": "markdown",
   "metadata": {},
   "source": [
    "## Prepare environment "
   ]
  },
  {
   "cell_type": "markdown",
   "metadata": {},
   "source": [
    "### Initialize Senzing configuration\n",
    "\n",
    "Run [senzing-G2ConfigMgr-reference.ipynb](senzing-G2ConfigMgr-reference.ipynb)\n",
    "to install a Senzing Engine configuration in the database."
   ]
  },
  {
   "cell_type": "markdown",
   "metadata": {},
   "source": [
    "### Initialize python environment"
   ]
  },
  {
   "cell_type": "code",
   "execution_count": null,
   "metadata": {},
   "outputs": [],
   "source": [
    "import argparse\n",
    "import json\n",
    "import operator\n",
    "import os\n",
    "import sys\n",
    "\n",
    "# For RenderJSON\n",
    "\n",
    "import uuid\n",
    "from IPython.display import display_javascript, display_html, display"
   ]
  },
  {
   "cell_type": "markdown",
   "metadata": {},
   "source": [
    "### Helper class for JSON rendering\n",
    "\n",
    "A class for pretty-printing JSON.\n",
    "Not required by Senzing, \n",
    "but helps visualize JSON."
   ]
  },
  {
   "cell_type": "code",
   "execution_count": null,
   "metadata": {},
   "outputs": [],
   "source": [
    "class RenderJSON(object):\n",
    "    def __init__(self, json_data):\n",
    "        if isinstance(json_data, dict):\n",
    "            self.json_str = json.dumps(json_data)\n",
    "        elif isinstance(json_data, bytearray):\n",
    "            self.json_str = json_data.decode()\n",
    "        else:\n",
    "            self.json_str = json_data\n",
    "        self.uuid = str(uuid.uuid4())\n",
    "\n",
    "    def _ipython_display_(self):\n",
    "        display_html('<div id=\"{}\" style=\"height:100%; width:100%; background-color: LightCyan\"></div>'.format(self.uuid), raw=True)\n",
    "        display_javascript(\"\"\"\n",
    "        require([\"https://rawgit.com/caldwell/renderjson/master/renderjson.js\"], function() {\n",
    "        document.getElementById('%s').appendChild(renderjson(%s))\n",
    "        });\n",
    "        \"\"\" % (self.uuid, self.json_str), raw=True)"
   ]
  },
  {
   "cell_type": "markdown",
   "metadata": {},
   "source": [
    "### Utility functions"
   ]
  },
  {
   "cell_type": "code",
   "execution_count": null,
   "metadata": {},
   "outputs": [],
   "source": [
    "def calculate_score_bucket_level(bucketString = None):\n",
    "    score_bucket = {\n",
    "        'SAME': 0,\n",
    "        'CLOSE': 1,\n",
    "        'LIKELY': 2,\n",
    "        'PLAUSIBLE': 3, \n",
    "        'UNLIKELY': 4,\n",
    "        'NO_CHANCE': 5,\n",
    "    }\n",
    "    return score_bucket.get(bucketString, 6)"
   ]
  },
  {
   "cell_type": "markdown",
   "metadata": {},
   "source": [
    "### System path\n",
    "\n",
    "Update system path."
   ]
  },
  {
   "cell_type": "code",
   "execution_count": null,
   "metadata": {},
   "outputs": [],
   "source": [
    "python_path = \"{0}/sdk/python\".format(\n",
    "    os.environ.get(\"SENZING_G2_DIR\", \"/opt/senzing/g2\"))\n",
    "sys.path.append(python_path)"
   ]
  },
  {
   "cell_type": "markdown",
   "metadata": {},
   "source": [
    "### Initialize variables\n",
    "\n",
    "Create variables used for G2Engine."
   ]
  },
  {
   "cell_type": "code",
   "execution_count": null,
   "metadata": {},
   "outputs": [],
   "source": [
    "%run senzing-init-config.ipynb"
   ]
  },
  {
   "cell_type": "code",
   "execution_count": null,
   "metadata": {},
   "outputs": [],
   "source": [
    "%store -r senzing_confifg_json"
   ]
  },
  {
   "cell_type": "code",
   "execution_count": null,
   "metadata": {},
   "outputs": [],
   "source": [
    "RenderJSON(senzing_config_json)"
   ]
  },
  {
   "cell_type": "markdown",
   "metadata": {},
   "source": [
    "## G2Engine"
   ]
  },
  {
   "cell_type": "code",
   "execution_count": null,
   "metadata": {},
   "outputs": [],
   "source": [
    "from senzing import G2Engine, G2Exception"
   ]
  },
  {
   "cell_type": "markdown",
   "metadata": {},
   "source": [
    "### G2Engine initialization\n",
    "\n",
    "Details at [G2Engine initialization](senzing-G2Engine-reference.ipynb#G2Engine-initialization)."
   ]
  },
  {
   "cell_type": "code",
   "execution_count": null,
   "metadata": {},
   "outputs": [],
   "source": [
    "g2_engine = G2Engine()\n",
    "\n",
    "try:\n",
    "    g2_engine.init(\n",
    "        module_name,\n",
    "        senzing_config_json,\n",
    "        verbose_logging)\n",
    "\n",
    "except G2Exception as err:\n",
    "    print(g2_engine.getLastException())"
   ]
  },
  {
   "cell_type": "markdown",
   "metadata": {},
   "source": [
    "### Purge prior repository\n",
    "\n",
    "Details at [G2Engine.purgeRepository](senzing-G2Engine-reference.ipynb#purgeRepository)."
   ]
  },
  {
   "cell_type": "code",
   "execution_count": null,
   "metadata": {},
   "outputs": [],
   "source": [
    "try:\n",
    "    g2_engine.purgeRepository()\n",
    "\n",
    "except G2Exception as err:\n",
    "    pring(g2_engine.getLastRepository())"
   ]
  },
  {
   "cell_type": "markdown",
   "metadata": {},
   "source": [
    "### Insert records\n",
    "\n",
    "Details at [G2Engine.addRecord](senzing-G2Engine-reference.ipynb#addRecord)."
   ]
  },
  {
   "cell_type": "markdown",
   "metadata": {},
   "source": [
    "#### Insert record 1"
   ]
  },
  {
   "cell_type": "code",
   "execution_count": null,
   "metadata": {},
   "outputs": [],
   "source": [
    "record_id = \"1\"\n",
    "data = {\n",
    "    \"NAMES\": [\n",
    "        {\n",
    "            \"NAME_TYPE\": \"PRIMARY\",\n",
    "            \"NAME_LAST\": \"Bob\",\n",
    "            \"NAME_FIRST\": \"Max\"\n",
    "        }\n",
    "    ],\n",
    "    \"PHONE_NUMBER\": \"123-456-7899\"\n",
    "}\n",
    "data_as_json = json.dumps(data)\n",
    "datasource_code = \"TEST\"\n",
    "load_id = None\n",
    "try:\n",
    "    g2_engine.addRecord(\n",
    "        datasource_code,\n",
    "        record_id,\n",
    "        data_as_json,\n",
    "        load_id)\n",
    "\n",
    "except G2Exception as err:\n",
    "    pring(g2_engine.getLastException())"
   ]
  },
  {
   "cell_type": "markdown",
   "metadata": {},
   "source": [
    "#### Insert record 2"
   ]
  },
  {
   "cell_type": "code",
   "execution_count": null,
   "metadata": {},
   "outputs": [],
   "source": [
    "record_id = \"2\"\n",
    "data = {\n",
    "    \"NAMES\": [\n",
    "        {\n",
    "            \"NAME_TYPE\": \"PRIMARY\",\n",
    "            \"NAME_LAST\": \"Robart\",\n",
    "            \"NAME_FIRST\": \"Max\",\n",
    "            \"MIDDLE_NAME\": \"S\"\n",
    "        }\n",
    "    ],\n",
    "    \"ADDR_FULL\": \"456 Funny ST\"\n",
    "}\n",
    "data_as_json = json.dumps(data)\n",
    "datasource_code = \"TEST\"\n",
    "load_id = None\n",
    "\n",
    "try:\n",
    "    g2_engine.addRecord(\n",
    "        datasource_code,\n",
    "        record_id,\n",
    "        data_as_json,\n",
    "        load_id)\n",
    "\n",
    "except G2Exception as err:\n",
    "    print(g2_engine.getLastException())"
   ]
  },
  {
   "cell_type": "markdown",
   "metadata": {},
   "source": [
    "#### Insert record 3"
   ]
  },
  {
   "cell_type": "code",
   "execution_count": null,
   "metadata": {},
   "outputs": [],
   "source": [
    "record_id = \"3\"\n",
    "data = {\n",
    "    \"NAMES\": [\n",
    "        {\n",
    "            \"NAME_TYPE\": \"PRIMARY\",\n",
    "            \"NAME_LAST\": \"Robert\",\n",
    "            \"NAME_FIRST\": \"Max\",\n",
    "            \"MIDDLE_NAME\":\"Stewart\"\n",
    "        }\n",
    "    ],\n",
    "    \"PHONE_NUMBER\": \"123-456-7899\",\n",
    "    \"ADDR_FULL\": \"456 Funny st\"\n",
    "}\n",
    "data_as_json = json.dumps(data)\n",
    "datasource_code = \"TEST\"\n",
    "load_id = None\n",
    "\n",
    "try:\n",
    "    g2_engine.addRecord(\n",
    "        datasource_code,\n",
    "        record_id,\n",
    "        data_as_json,\n",
    "        load_id)\n",
    "\n",
    "except G2Exception as err:\n",
    "    print(g2_engine.getLastException())"
   ]
  },
  {
   "cell_type": "markdown",
   "metadata": {},
   "source": [
    "## Ask Why\n",
    "\n",
    "Details at [G2Engine.whyEntityByRecordID](senzing-G2Engine-reference.ipynb#whyEntityByRecordID)."
   ]
  },
  {
   "cell_type": "code",
   "execution_count": null,
   "metadata": {},
   "outputs": [],
   "source": [
    "record_id = \"2\"\n",
    "response_bytearray = bytearray()\n",
    "\n",
    "try:\n",
    "    g2_engine.whyEntityByRecordID(\n",
    "        datasource_code,\n",
    "        record_id,\n",
    "        response_bytearray)\n",
    "\n",
    "    why_entity_dictionary = json.loads(response_bytearray.decode())\n",
    "\n",
    "except G2Exception as err:\n",
    "    print(g2_engine.getLastException())\n",
    "RenderJSON(response_bytearray)"
   ]
  },
  {
   "cell_type": "markdown",
   "metadata": {},
   "source": [
    "### Start constructing final report"
   ]
  },
  {
   "cell_type": "code",
   "execution_count": null,
   "metadata": {},
   "outputs": [],
   "source": [
    "final_result = {\n",
    "    \"Data_source\": datasource_code,\n",
    "    \"Record_ID\": record_id\n",
    "}"
   ]
  },
  {
   "cell_type": "markdown",
   "metadata": {},
   "source": [
    "### Get the main document data sections"
   ]
  },
  {
   "cell_type": "code",
   "execution_count": null,
   "metadata": {},
   "outputs": [],
   "source": [
    "for why_result in why_entity_dictionary.get(\"WHY_RESULTS\", []):\n",
    "    for focus_record in why_result.get(\"FOCUS_RECORDS\", []):\n",
    "        if focus_record.get(\"DATA_SOURCE\") == final_result.get(\"Data_source\") \\\n",
    "        and focus_record.get(\"RECORD_ID\") == final_result.get(\"Record_ID\"):\n",
    "            break\n",
    "     \n",
    "final_result[\"Entity_ID\"] = why_result['ENTITY_ID']\n",
    "RenderJSON(why_result)"
   ]
  },
  {
   "cell_type": "markdown",
   "metadata": {},
   "source": [
    "### Get the basic why results"
   ]
  },
  {
   "cell_type": "code",
   "execution_count": null,
   "metadata": {},
   "outputs": [],
   "source": [
    "match_info = why_result.get(\"MATCH_INFO\", {})\n",
    "final_result[\"Why_key\"] = match_info.get(\"WHY_KEY\")\n",
    "final_result[\"Why_ER_rule_code\"] = match_info.get(\"WHY_ERRULE_CODE\")"
   ]
  },
  {
   "cell_type": "markdown",
   "metadata": {},
   "source": [
    "### Get the matching candidate keys for the record"
   ]
  },
  {
   "cell_type": "code",
   "execution_count": null,
   "metadata": {},
   "outputs": [],
   "source": [
    "name_feature_dictionary = {}\n",
    "\n",
    "for candidate_key, candidate_values in match_info.get(\"CANDIDATE_KEYS\", []).items():\n",
    "    if candidate_key not in name_feature_dictionary:\n",
    "        name_feature_dictionary[candidate_key] = []    \n",
    "    for candidate_value in candidate_values:\n",
    "        name_feature_dictionary[candidate_key].append(candidate_value.get(\"FEAT_DESC\")) \n",
    "        \n",
    "RenderJSON(name_feature_dictionary)        "
   ]
  },
  {
   "cell_type": "markdown",
   "metadata": {},
   "source": [
    "### Determine the best matches for each feature type"
   ]
  },
  {
   "cell_type": "code",
   "execution_count": null,
   "metadata": {},
   "outputs": [],
   "source": [
    "best_behavior_level_by_types = {}\n",
    "best_feature_match_by_types = {}\n",
    "\n",
    "for feature_score_key, feature_score_values in match_info.get(\"FEATURE_SCORES\", {}).items():\n",
    "    \n",
    "    if feature_score_key not in best_feature_match_by_types:\n",
    "        best_behavior_level_by_types[feature_score_key] = calculate_score_bucket_level()\n",
    "        \n",
    "    for feature_score_value in feature_score_values:\n",
    "        score_bucket = feature_score_value.get(\"SCORE_BUCKET\")\n",
    "        score_bucket_level = calculate_score_bucket_level(score_bucket)\n",
    "        \n",
    "        if best_behavior_level_by_types[feature_score_key] >= score_bucket_level:\n",
    "            best_behavior_level_by_types[feature_score_key] = score_bucket_level\n",
    "            best_feature_match_by_types[feature_score_key] = {\n",
    "                \"SCORE_BUCKET\": score_bucket,\n",
    "                \"FEAT\": feature_score_value.get(\"INBOUND_FEAT\")\n",
    "            }\n",
    "\n",
    "RenderJSON(best_feature_match_by_types)"
   ]
  },
  {
   "cell_type": "markdown",
   "metadata": {},
   "source": [
    "### Print the general \"Why\" results"
   ]
  },
  {
   "cell_type": "code",
   "execution_count": null,
   "metadata": {},
   "outputs": [],
   "source": [
    "RenderJSON(final_result)        "
   ]
  },
  {
   "cell_type": "markdown",
   "metadata": {},
   "source": [
    "### Print the matching criteria"
   ]
  },
  {
   "cell_type": "code",
   "execution_count": null,
   "metadata": {},
   "outputs": [],
   "source": [
    "print('Compared Features:')\n",
    "\n",
    "for key, value in sorted(best_feature_match_by_types.items()):\n",
    "    print(\"    {0}: '{1}' ({2})\".format(key, value.get(\"FEAT\"), value.get(\"SCORE_BUCKET\")))"
   ]
  },
  {
   "cell_type": "markdown",
   "metadata": {},
   "source": [
    "### Print the candidate keys"
   ]
  },
  {
   "cell_type": "code",
   "execution_count": null,
   "metadata": {},
   "outputs": [],
   "source": [
    "print('Matching record candidate keys:')\n",
    "\n",
    "for key, values in sorted(name_feature_dictionary.items()):\n",
    "    print(\"    {0}:\".format(key))\n",
    "    values.sort()\n",
    "    for value in values:\n",
    "        print(\"        '{0}'\".format(value))"
   ]
  },
  {
   "cell_type": "markdown",
   "metadata": {},
   "source": [
    "### Shut down the engine\n",
    "\n",
    "Details at [G2Engine.destroy](senzing-G2Engine-reference.ipynb#destroy)."
   ]
  },
  {
   "cell_type": "code",
   "execution_count": null,
   "metadata": {},
   "outputs": [],
   "source": [
    "try:\n",
    "    g2_engine.destroy()\n",
    "\n",
    "except G2Exception as err:\n",
    "    print(g2_engine.getLastException)"
   ]
  }
 ],
 "metadata": {
  "kernelspec": {
   "display_name": "Python 3 (ipykernel)",
   "language": "python",
   "name": "python3"
  },
  "language_info": {
   "codemirror_mode": {
    "name": "ipython",
    "version": 3
   },
   "file_extension": ".py",
   "mimetype": "text/x-python",
   "name": "python",
   "nbconvert_exporter": "python",
   "pygments_lexer": "ipython3",
   "version": "3.7.8"
  },
  "toc": {
   "base_numbering": 1,
   "nav_menu": {},
   "number_sections": true,
   "sideBar": true,
   "skip_h1_title": true,
   "title_cell": "Table of Contents",
   "title_sidebar": "Contents",
   "toc_cell": false,
   "toc_position": {},
   "toc_section_display": true,
   "toc_window_display": true
  }
 },
 "nbformat": 4,
 "nbformat_minor": 2
}
