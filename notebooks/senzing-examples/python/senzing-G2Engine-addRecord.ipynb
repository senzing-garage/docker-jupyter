{
 "cells": [
  {
   "cell_type": "markdown",
   "metadata": {},
   "source": [
    "# G2Engine Guide - Adding records\n",
    "\n",
    "The `addRecord()` method creates a JSON string with information about your Senzing version.\n",
    "\n",
    "More information:\n",
    "\n",
    "* [G2Engine Reference](senzing-G2Engine-reference.ipynb)"
   ]
  },
  {
   "cell_type": "markdown",
   "metadata": {},
   "source": [
    "## Prepare Environment"
   ]
  },
  {
   "cell_type": "code",
   "execution_count": null,
   "metadata": {},
   "outputs": [],
   "source": [
    "import os\n",
    "import sys\n",
    "import json\n",
    "\n",
    "# For RenderJSON\n",
    "\n",
    "import uuid\n",
    "from IPython.display import display_javascript, display_html, display"
   ]
  },
  {
   "cell_type": "markdown",
   "metadata": {},
   "source": [
    "### Helper class for JSON Rendering"
   ]
  },
  {
   "cell_type": "code",
   "execution_count": null,
   "metadata": {},
   "outputs": [],
   "source": [
    "class RenderJSON(object):\n",
    "    def __init__(self, json_data):\n",
    "        if isinstance(json_data, dict):\n",
    "            self.json_str = json.dumps(json_data)\n",
    "        elif isinstance(json_data, bytearray):\n",
    "            self.json_str = json_data.decode()\n",
    "        else:\n",
    "            self.json_str = json_data\n",
    "        self.uuid = str(uuid.uuid4())\n",
    "\n",
    "    def _ipython_display_(self):\n",
    "        display_html('<div id=\"{}\" style=\"height:100%; width:100%; background-color: LightCyan\"></div>'.format(self.uuid), raw=True)\n",
    "        display_javascript(\"\"\"\n",
    "        require([\"https://rawgit.com/caldwell/renderjson/master/renderjson.js\"], function() {\n",
    "        document.getElementById('%s').appendChild(renderjson(%s))\n",
    "        });\n",
    "        \"\"\" % (self.uuid, self.json_str), raw=True)"
   ]
  },
  {
   "cell_type": "markdown",
   "metadata": {},
   "source": [
    "### System path\n",
    "\n",
    "Update system path."
   ]
  },
  {
   "cell_type": "code",
   "execution_count": null,
   "metadata": {},
   "outputs": [],
   "source": [
    "python_path = \"{0}/python\".format(\n",
    "    os.environ.get(\"SENZING_G2_DIR\", \"/opt/senzing/g2\"))\n",
    "sys.path.append(python_path)"
   ]
  },
  {
   "cell_type": "markdown",
   "metadata": {},
   "source": [
    "### Initialize variables\n",
    "\n",
    "Create variables used in `addRecord()`."
   ]
  },
  {
   "cell_type": "code",
   "execution_count": null,
   "metadata": {},
   "outputs": [],
   "source": [
    "%run senzing-init-config.ipynb"
   ]
  },
  {
   "cell_type": "code",
   "execution_count": null,
   "metadata": {},
   "outputs": [],
   "source": [
    "%store -r senzing_config_json"
   ]
  },
  {
   "cell_type": "code",
   "execution_count": null,
   "metadata": {},
   "outputs": [],
   "source": [
    "RenderJSON(senzing_config_json)"
   ]
  },
  {
   "cell_type": "markdown",
   "metadata": {},
   "source": [
    "## G2Engine\n",
    "\n",
    "The G2Engine API..."
   ]
  },
  {
   "cell_type": "code",
   "execution_count": null,
   "metadata": {},
   "outputs": [],
   "source": [
    "from senzing import G2Engine, G2Exception"
   ]
  },
  {
   "cell_type": "markdown",
   "metadata": {},
   "source": [
    "### G2Engine initialization\n",
    "\n",
    "Details at [G2Engine initialization](senzing-G2Engine-reference.ipynb#G2Engine-initialization)."
   ]
  },
  {
   "cell_type": "code",
   "execution_count": null,
   "metadata": {
    "scrolled": true
   },
   "outputs": [],
   "source": [
    "g2_engine = G2Engine()\n",
    "try:\n",
    "    g2_engine.init(module_name, senzing_config_json, verbose_logging)\n",
    "\n",
    "except G2Exception as err:\n",
    "    print(g2_engine.getLastException())"
   ]
  },
  {
   "cell_type": "markdown",
   "metadata": {},
   "source": [
    "### Prime Engine\n",
    "\n",
    "The `primeEngine()` method may optionally be called to pre-initialize some of the heavier weight internal resources of the G2 engine.\n",
    "\n",
    "Details at [G2Engine.primeEngine](senzing-G2Engine-reference.ipynb#primeEngine)."
   ]
  },
  {
   "cell_type": "code",
   "execution_count": null,
   "metadata": {},
   "outputs": [],
   "source": [
    "try:\n",
    "    g2_engine.primeEngine()\n",
    "\n",
    "except G2Exception as err:\n",
    "    print(g2_engine.getLastException())"
   ]
  },
  {
   "cell_type": "markdown",
   "metadata": {},
   "source": [
    "### Add record\n",
    "\n",
    "Once the Senzing engine is initialized, use addRecord() to load a record into the Senzing repository -- addRecord() can be called as many times as desired and from multiple threads at the same time.\n",
    "\n",
    "Details at [G2Engine.addRecord](senzing-G2Engine-reference.ipynb#addRecord)."
   ]
  },
  {
   "cell_type": "code",
   "execution_count": null,
   "metadata": {},
   "outputs": [],
   "source": [
    "datasource_code = \"TEST\"\n",
    "record_id = \"1\"\n",
    "data = {\n",
    "    \"NAMES\": [{\n",
    "        \"NAME_TYPE\": \"PRIMARY\",\n",
    "        \"NAME_LAST\": \"Smith\",\n",
    "        \"NAME_FIRST\": \"John\",\n",
    "        \"NAME_MIDDLE\": \"M\"\n",
    "    }],\n",
    "    \"PASSPORT_NUMBER\": \"PP11111\",\n",
    "    \"PASSPORT_COUNTRY\": \"US\",\n",
    "    \"DRIVERS_LICENSE_NUMBER\": \"DL11111\",\n",
    "    \"SSN_NUMBER\": \"111-11-1111\"\n",
    "}\n",
    "data_string = json.dumps(data)\n",
    "load_id = None\n",
    "try:\n",
    "    g2_engine.addRecord(datasource_code, record_id, data_string, load_id)\n",
    "\n",
    "except G2Exception as err:\n",
    "    print(g2_engine.getLastException())"
   ]
  },
  {
   "cell_type": "markdown",
   "metadata": {},
   "source": [
    "### Get record\n",
    "\n",
    "Details at [G2Engine.getRecord](senzing-G2Engine-reference.ipynb#getRecord)."
   ]
  },
  {
   "cell_type": "code",
   "execution_count": null,
   "metadata": {},
   "outputs": [],
   "source": [
    "response_bytearray = bytearray()\n",
    "try:\n",
    "    g2_engine.getRecord(\n",
    "        datasource_code,\n",
    "        record_id,\n",
    "        response_bytearray)\n",
    "\n",
    "except G2Exception as err:\n",
    "    print(g2_engine.getLastException())\n",
    "    \n",
    "RenderJSON(response_bytearray)"
   ]
  },
  {
   "cell_type": "markdown",
   "metadata": {},
   "source": [
    "### Get entity by record ID\n",
    "\n",
    "Details at [G2Engine.getEntityByRecordID](senzing-G2Engine-reference.ipynb#getEntityByRecordID)."
   ]
  },
  {
   "cell_type": "code",
   "execution_count": null,
   "metadata": {},
   "outputs": [],
   "source": [
    "response_bytearray = bytearray()\n",
    "try:\n",
    "    g2_engine.getEntityByRecordID(\n",
    "        datasource_code,\n",
    "        record_id,\n",
    "        response_bytearray)\n",
    "\n",
    "except G2Exception as err:\n",
    "    print(g2_engine.getLastException())\n",
    "    \n",
    "RenderJSON(response_bytearray)"
   ]
  },
  {
   "cell_type": "markdown",
   "metadata": {},
   "source": [
    "### Get entity by entity ID\n",
    "\n",
    "Details at [G2Engine.getEntityByEntityID](senzing-G2Engine-reference.ipynb#getEntityByEntityID)."
   ]
  },
  {
   "cell_type": "code",
   "execution_count": null,
   "metadata": {},
   "outputs": [],
   "source": [
    "entity_id = 1\n",
    "response_bytearray = bytearray()\n",
    "try:\n",
    "    g2_engine.getEntityByEntityID(entity_id, response_bytearray)\n",
    "\n",
    "except G2Exception as err:\n",
    "    print(g2_engine.getLastException())\n",
    "    \n",
    "RenderJSON(response_bytearray)"
   ]
  },
  {
   "cell_type": "markdown",
   "metadata": {},
   "source": [
    "### Search by attributes\n",
    "\n",
    "Details at [G2Engine.searchByAttributes](senzing-G2Engine-reference.ipynb#searchByAttributes)."
   ]
  },
  {
   "cell_type": "code",
   "execution_count": null,
   "metadata": {},
   "outputs": [],
   "source": [
    "response_bytearray = bytearray()\n",
    "try:\n",
    "    g2_engine.searchByAttributes(data_string, response_bytearray)\n",
    "\n",
    "except G2Exception as err:\n",
    "    print(g2_engine.getlastException())\n",
    "    \n",
    "RenderJSON(response_bytearray)"
   ]
  }
 ],
 "metadata": {
  "kernelspec": {
   "display_name": "Python 3",
   "language": "python",
   "name": "python3"
  },
  "language_info": {
   "codemirror_mode": {
    "name": "ipython",
    "version": 3
   },
   "file_extension": ".py",
   "mimetype": "text/x-python",
   "name": "python",
   "nbconvert_exporter": "python",
   "pygments_lexer": "ipython3",
   "version": "3.7.8"
  },
  "toc": {
   "base_numbering": 1,
   "nav_menu": {},
   "number_sections": true,
   "sideBar": true,
   "skip_h1_title": true,
   "title_cell": "Table of Contents",
   "title_sidebar": "Contents",
   "toc_cell": false,
   "toc_position": {},
   "toc_section_display": true,
   "toc_window_display": true
  }
 },
 "nbformat": 4,
 "nbformat_minor": 2
}
