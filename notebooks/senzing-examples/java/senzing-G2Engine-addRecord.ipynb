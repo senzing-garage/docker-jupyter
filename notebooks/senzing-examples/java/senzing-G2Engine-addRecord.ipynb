{
 "cells": [
  {
   "cell_type": "markdown",
   "metadata": {},
   "source": [
    "# G2Engine Guide - Adding records\n",
    "\n",
    "The `addRecord()` method creates a JSON string with information about your Senzing version.\n",
    "\n",
    "More information:\n",
    "\n",
    "* [G2Engine Reference](senzing-G2Engine-reference.ipynb)"
   ]
  },
  {
   "cell_type": "markdown",
   "metadata": {},
   "source": [
    "## Prepare Environment"
   ]
  },
  {
   "cell_type": "code",
   "execution_count": null,
   "metadata": {},
   "outputs": [],
   "source": [
    "import com.senzing.g2.engine.G2Engine;\n",
    "import com.senzing.g2.engine.G2JNI;\n",
    "import com.senzing.g2.engine.Result;"
   ]
  },
  {
   "cell_type": "markdown",
   "metadata": {
    "heading_collapsed": true
   },
   "source": [
    "### Helper class for Json Rendering"
   ]
  },
  {
   "cell_type": "code",
   "execution_count": null,
   "metadata": {
    "hidden": true
   },
   "outputs": [],
   "source": [
    "%%loadFromPOM\n",
    "<dependency>\n",
    "    <groupId>org.glassfish</groupId>\n",
    "    <artifactId>javax.json</artifactId>\n",
    "    <version>1.1.4</version>\n",
    "</dependency>"
   ]
  },
  {
   "cell_type": "code",
   "execution_count": null,
   "metadata": {
    "hidden": true
   },
   "outputs": [],
   "source": [
    "import javax.json.*;\n",
    "import static java.util.Collections.*;\n",
    "import static javax.json.stream.JsonGenerator.PRETTY_PRINTING;"
   ]
  },
  {
   "cell_type": "code",
   "execution_count": null,
   "metadata": {
    "hidden": true
   },
   "outputs": [],
   "source": [
    "public class JsonUtil {\n",
    "    private static final JsonWriterFactory PRETTY_FACTORY\n",
    "        = Json.createWriterFactory(singletonMap(PRETTY_PRINTING, true));\n",
    "        \n",
    "    private static final JsonWriterFactory UGLY_FACTORY\n",
    "        = Json.createWriterFactory(emptyMap());\n",
    "    \n",
    "    public static String toJsonText(JsonValue val) {\n",
    "        return toJsonText(val, true);\n",
    "    }\n",
    "\n",
    "    public static String toJsonText(JsonValue val, boolean prettyPrint) {\n",
    "        JsonWriterFactory factory = (prettyPrint) ? PRETTY_FACTORY : UGLY_FACTORY;\n",
    "        StringWriter sw = new StringWriter();\n",
    "        JsonWriter writer = factory.createWriter(sw);\n",
    "        writer.write(val);\n",
    "        sw.flush();\n",
    "        return sw.toString();\n",
    "    }\n",
    "    \n",
    "    public static JsonObject parseJsonObject(String jsonText) {\n",
    "        if (jsonText == null) return null;\n",
    "        StringReader sr = new StringReader(jsonText);\n",
    "        JsonReader jsonReader = Json.createReader(sr);\n",
    "        return jsonReader.readObject();\n",
    "  }\n",
    "\n",
    "    public static JsonArray parseJsonArray(String jsonText) {\n",
    "        if (jsonText == null) return null;\n",
    "        StringReader sr = new StringReader(jsonText);\n",
    "        JsonReader jsonReader = Json.createReader(sr);\n",
    "        return jsonReader.readArray();\n",
    "  }\n",
    "}"
   ]
  },
  {
   "cell_type": "code",
   "execution_count": null,
   "metadata": {
    "hidden": true
   },
   "outputs": [],
   "source": [
    "import java.util.UUID;\n",
    "String str;\n",
    "public static void RenderJSON(Object obj){\n",
    "    str = obj.toString();\n",
    "    JsonObject json = JsonUtil.parseJsonObject(str);\n",
    "    String Config = JsonUtil.toJsonText(json, false);\n",
    "    UUID id = UUID.randomUUID();\n",
    "    String uuid = id.toString();\n",
    "    String div = \"<div id=\\\"\"+ uuid +\"\\\" style=\\\"height:100%; width:100%; background-color: LightCyan\\\"></div>\";\n",
    "    display(div, \"text/html\");\n",
    "    String jav = \"require([\\\"https://rawgit.com/caldwell/renderjson/master/renderjson.js\\\"], function() {document.getElementById(\\'\"+ uuid +\"\\').appendChild(renderjson(\"+json+\"))});\";\n",
    "    display(jav, \"application/javascript\");\n",
    "}"
   ]
  },
  {
   "cell_type": "markdown",
   "metadata": {},
   "source": [
    "### Initialize Senzing configuration\n",
    "\n",
    "Using environment variables and default values, create `senzingConfigJson`.\n",
    "This value is used when instantiating Senzing objects."
   ]
  },
  {
   "cell_type": "code",
   "execution_count": null,
   "metadata": {},
   "outputs": [],
   "source": [
    "// Get variables used in constructing Senzing Engine configuration.\n",
    "String senzingConfigJson=System.getenv(\"SENZING_ENGINE_CONFIGURATION_JSON\");\n",
    "\n",
    "String configPath = System.getenv(\"SENZING_ETC_DIR\");\n",
    "if (configPath == null) {\n",
    "    configPath = \"/etc/opt/senzing\";\n",
    "}\n",
    "\n",
    "String supportPath = System.getenv(\"SENZING_DATA_VERSION_DIR\");\n",
    "if (supportPath == null) {\n",
    "    supportPath = \"/opt/senzing/data\";\n",
    "}\n",
    "\n",
    "String g2Path = System.getenv(\"SENZING_G2_DIR\");\n",
    "if (g2Path == null) {\n",
    "    g2Path = \"/opt/senzing/g2\";\n",
    "}\n",
    "\n",
    "String resourcePath = g2Path + \"/resources\";\n",
    "\n",
    "String sqlConnection = System.getenv(\"SENZING_SQL_CONNECTION\");\n",
    "if (sqlConnection == null) {\n",
    "    sqlConnection = \"sqlite3://na:na@/var/opt/senzing/sqlite/G2C.db\";\n",
    "}\n",
    "\n",
    "    // Construct the JSON string used for Senzing Engine configuration.\n",
    "if(senzingConfigJson==null)\n",
    "    senzingConfigJson = \"{\"\n",
    "       + \"\\\"PIPELINE\\\": {\"\n",
    "       +     \"\\\"CONFIGPATH\\\": \\\"\" + configPath + \"\\\",\"\n",
    "       +     \"\\\"SUPPORTPATH\\\": \\\"\" + supportPath + \"\\\",\"\n",
    "       +     \"\\\"RESOURCEPATH\\\": \\\"\" + resourcePath + \"\\\"\"\n",
    "       + \"},\"\n",
    "       + \"\\\"SQL\\\": {\"\n",
    "       +     \"\\\"CONNECTION\\\": \\\"\" + sqlConnection + \"\\\"\"\n",
    "       + \"}}\";\n",
    "\n",
    "RenderJSON(senzingConfigJson);"
   ]
  },
  {
   "cell_type": "markdown",
   "metadata": {},
   "source": [
    "## G2Engine"
   ]
  },
  {
   "cell_type": "markdown",
   "metadata": {},
   "source": [
    "### G2Engine initialization\n",
    "\n",
    "To start using Senzing G2Engine, create and initialize an instance.\n",
    "This should be done once per process.\n",
    "The `initV2()` method accepts the following parameters:\n",
    "\n",
    "- **moduleName:** A short name given to this instance of the G2Engine\n",
    "  object.\n",
    "- **senzingConfigJson:** A JSON string containing configuration parameters.\n",
    "- **verboseLogging:** A boolean which enables diagnostic logging.\n",
    "- **configID:** (optional) The identifier value for the engine configuration\n",
    "  can be returned here.\n",
    "\n",
    "Calling this function will return \"0\" upon success."
   ]
  },
  {
   "cell_type": "code",
   "execution_count": null,
   "metadata": {},
   "outputs": [],
   "source": [
    "G2Engine g2engine = new G2JNI();\n",
    "\n",
    "String moduleName = \"ExampleG2Engine\";\n",
    "boolean verboseLogging = true;\n",
    "int return_code = g2engine.initV2(moduleName, senzingConfigJson, verboseLogging);\n",
    "System.out.print(return_code);"
   ]
  },
  {
   "cell_type": "markdown",
   "metadata": {},
   "source": [
    "### addRecord\n",
    "\n",
    "Once the Senzing engine is initialized, use addRecord() to load a record into the Senzing repository -- addRecord() can be called as many times as desired and from multiple threads at the same time. The addRecord() function returns \"0\" upon success, and accepts four parameters as input:\n",
    "\n",
    "- **dataSourceCode:** The name of the data source the record is associated with. This value is configurable to the system\n",
    "- **recordID:** The record ID, used to identify distinct records\n",
    "- **jsonData:** A JSON document with the attribute data for the record\n",
    "- **loadID:** The observation load ID for the record; value can be null and will default to data_source\n"
   ]
  },
  {
   "cell_type": "code",
   "execution_count": null,
   "metadata": {},
   "outputs": [],
   "source": [
    "String dataSourceCode = \"TEST\";\n",
    "String recordID = \"1\";\n",
    "String jsonData =  \"{\\\"NAME_TYPE\\\": \\\"PRIMARY\\\", \\\"NAME_FIRST\\\": \\\"JANE\\\", \\\"NAME_LAST\\\": \\\"SMITH\\\", \\\"ADDR_TYPE\\\": \\\"HOME\\\", \\\"ADDR_LINE1\\\": \\\"653 STATE ROUTE 7\\\", \\\"ADDR_CITY\\\": \\\"FRESNO\\\", \\\"ADDR_STATE\\\": \\\"CA\\\", \\\"ADDR_POSTAL_CODE\\\": \\\"55073-1234\\\"}\";\n",
    "String loadID = null;\n",
    "\n",
    "/** addRecord */\n",
    "int return_code= g2engine.addRecord(dataSourceCode, recordID, jsonData, loadID);\n",
    "\n",
    "/** addRecordWithReturnedRecordID */\n",
    "StringBuffer recordID2 = new StringBuffer();\n",
    "int ret2 = g2engine.addRecordWithReturnedRecordID(dataSourceCode, recordID2, jsonData, loadID);\n",
    "\n",
    "System.out.print(\"New Record ID: \" + recordID2.toString());\n",
    "\n",
    "/** addRecordWithInfo */\n",
    "StringBuffer responseBuffer = new StringBuffer();\n",
    "int flags = 0;\n",
    "int ret3 = g2engine.addRecordWithInfo(dataSourceCode, recordID, jsonData, loadID, flags, responseBuffer);\n",
    "\n",
    "RenderJSON(responseBuffer);"
   ]
  },
  {
   "cell_type": "markdown",
   "metadata": {},
   "source": [
    "### getRecordV2\n",
    "\n",
    "Use `getRecord()` to retrieve a single record from the data repository; the record is assigned in JSON form to a user-designated buffer, and the function itself returns \"0\" upon success. Once the Senzing engine is initialized, `getRecord()` can be called as many times as desired and from multiple threads at the same time. The `getRecord()` function accepts the following parameters as input:\n",
    "\n",
    "- **dataSourceCode:** The name of the data source the record is associated with. This value is configurable to the system\n",
    "- **recordID:** The record ID, used to identify the record for retrieval\n",
    "- **flags:** Control flags for specifying what data about the\n",
    "  entity to retrieve.\n",
    "- **response:** A memory buffer for returning the response document; if an error occurred, an error response is stored here"
   ]
  },
  {
   "cell_type": "code",
   "execution_count": null,
   "metadata": {},
   "outputs": [],
   "source": [
    "int flags = 0;\n",
    "String dataSourceCode = \"TEST\";\n",
    "String recordID = \"1\";\n",
    "StringBuffer response = new StringBuffer();\n",
    "int return_code= g2engine.getRecordV2(dataSourceCode, recordID, flags, response);\n",
    "\n",
    "if(return_code!=0)\n",
    "    System.out.print(g2engine.getLastException());\n",
    "else\n",
    "    RenderJSON(response)"
   ]
  },
  {
   "cell_type": "markdown",
   "metadata": {},
   "source": [
    "## Search"
   ]
  },
  {
   "cell_type": "markdown",
   "metadata": {},
   "source": [
    "### getEntityByRecordIDV2\n",
    "\n",
    "Use `getEntityByRecordIDV2()` to retrieve entity data based on the record ID of a particular data record. This function accepts the following parameters as input:\n",
    "\n",
    "- **dataSourceCode:** The name of the data source the record is associated with. This value is configurable to the system\n",
    "- **recordID:** The record ID for a particular data record\n",
    "- **flags:** Control flags for specifying what data about the\n",
    "  entity to retrieve.\n",
    "- **response:** A memory buffer for returning the response document; if an error occurred, an error response is stored here."
   ]
  },
  {
   "cell_type": "code",
   "execution_count": null,
   "metadata": {
    "scrolled": false
   },
   "outputs": [],
   "source": [
    "String dataSourceCode = \"TEST\";\n",
    "String recordID = \"1\";\n",
    "\n",
    "StringBuffer response = new StringBuffer();\n",
    "\n",
    "int return_code = g2engine.getEntityByRecordIDV2(dataSourceCode, recordID, flags, response);\n",
    "JsonObject jsonObject = JsonUtil.parseJsonObject(response.toString());\n",
    "long entityID = jsonObject.getJsonObject(\"RESOLVED_ENTITY\").getJsonNumber(\"ENTITY_ID\").longValue();\n",
    "if(return_code!=0)\n",
    "    System.out.print(g2engine.getLastException());\n",
    "else\n",
    "    RenderJSON(response);"
   ]
  },
  {
   "cell_type": "markdown",
   "metadata": {},
   "source": [
    "### getEntityByEntityIDV2\n",
    "\n",
    "Entity searching is a key component for interactive use of Entity Resolution\n",
    "intelligence.\n",
    "The core Senzing engine provides real-time search capabilities that are\n",
    "easily accessed via the Senzing API.\n",
    "Senzing offers methods for entity searching, all of which can be called as\n",
    "many times\n",
    "as desired and from multiple threads at the same time (and all of which\n",
    "return \"0\" upon success).\n",
    "\n",
    "Use `getEntityByEntityIDV2()` to retrieve entity data based on the ID of a\n",
    "resolved identity.\n",
    "This function accepts the following parameters as input:\n",
    "\n",
    "- **entityID:** The numeric ID of a resolved entity\n",
    "- **flags:** Control flags for specifying what data about the\n",
    "  entity to retrieve.\n",
    "- **response:** A memory buffer for returning the response\n",
    "  document; if an error occurred, an error response is stored here."
   ]
  },
  {
   "cell_type": "code",
   "execution_count": null,
   "metadata": {
    "scrolled": true
   },
   "outputs": [],
   "source": [
    "response = new StringBuffer();\n",
    "\n",
    "int ret2 = g2engine.getEntityByEntityIDV2(entityID, flags, response);\n",
    "RenderJSON(response);"
   ]
  },
  {
   "cell_type": "markdown",
   "metadata": {},
   "source": [
    "### searchByAttributes\n",
    "\n",
    "Use `searchByAttributesV2()` to retrieve entity data based on a user-specified set of entity attributes. This function accepts the following parameters as input:\n",
    "\n",
    "- **jsonData:** A JSON document with the attribute data to search for\n",
    "- **flags:** Control flags for specifying what data about the\n",
    "  entity to retrieve.\n",
    "- **response:** A memory buffer for returning the response document; if an error occurred, an error response is stored here."
   ]
  },
  {
   "cell_type": "code",
   "execution_count": null,
   "metadata": {
    "scrolled": true
   },
   "outputs": [],
   "source": [
    "String dataSourceCode = \"TEST\";\n",
    "String recordID = \"1\";\n",
    "int flags = 0;\n",
    "response = new StringBuffer();\n",
    "\n",
    "int return_code = g2engine.searchByAttributesV2(jsonData, flags, response);\n",
    "if(return_code!=0)\n",
    "    System.out.print(g2engine.getLastException());\n",
    "else\n",
    "    RenderJSON(response);"
   ]
  },
  {
   "cell_type": "markdown",
   "metadata": {},
   "source": [
    "## Cleanup"
   ]
  },
  {
   "cell_type": "markdown",
   "metadata": {},
   "source": [
    "### Purge Repository\n",
    "To purge the G2 repository, use the aptly named `purgeRepository()` method. This will remove every record in your current repository."
   ]
  },
  {
   "cell_type": "code",
   "execution_count": null,
   "metadata": {},
   "outputs": [],
   "source": [
    "int return_code= g2engine.purgeRepository();\n",
    "if(return_code!=0)\n",
    "    System.out.print(g2engine.getLastException());\n",
    "else\n",
    "    System.out.print(return_code)"
   ]
  },
  {
   "cell_type": "markdown",
   "metadata": {},
   "source": [
    "### destroy\n",
    "Once all searching is done in a process call `destroy()` to uninitialize Senzing and clean up resources. You should always do this once at the end of each process."
   ]
  },
  {
   "cell_type": "code",
   "execution_count": null,
   "metadata": {},
   "outputs": [],
   "source": [
    "int return_code = g2engine.destroy();\n",
    "\n",
    "if(return_code!=0)\n",
    "    System.out.print(g2engine.getLastException());\n",
    "else\n",
    "    System.out.print(return_code);"
   ]
  }
 ],
 "metadata": {
  "kernelspec": {
   "display_name": "Java",
   "language": "java",
   "name": "java"
  },
  "language_info": {
   "codemirror_mode": "java",
   "file_extension": ".jshell",
   "mimetype": "text/x-java-source",
   "name": "Java",
   "pygments_lexer": "java",
   "version": "11.0.11+9-Ubuntu-0ubuntu2.18.04"
  },
  "toc": {
   "base_numbering": 1,
   "nav_menu": {},
   "number_sections": true,
   "sideBar": true,
   "skip_h1_title": true,
   "title_cell": "Table of Contents",
   "title_sidebar": "Contents",
   "toc_cell": false,
   "toc_position": {},
   "toc_section_display": true,
   "toc_window_display": true
  }
 },
 "nbformat": 4,
 "nbformat_minor": 4
}
