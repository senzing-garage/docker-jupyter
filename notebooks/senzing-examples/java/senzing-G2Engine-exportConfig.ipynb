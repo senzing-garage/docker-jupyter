{
 "cells": [
  {
   "cell_type": "markdown",
   "metadata": {},
   "source": [
    "# G2Engine Guide - Export configuration\n",
    "\n",
    "The `exportConfig()` method creates a string with information about the Senzing engine's configuration.\n",
    "\n",
    "More information:\n",
    "\n",
    "* [G2Engine Reference](senzing-G2Engine-reference.ipynb)"
   ]
  },
  {
   "cell_type": "markdown",
   "metadata": {},
   "source": [
    "## Prepare Environment"
   ]
  },
  {
   "cell_type": "code",
   "execution_count": null,
   "metadata": {},
   "outputs": [],
   "source": [
    "import com.senzing.g2.engine.G2Engine;\n",
    "import com.senzing.g2.engine.G2JNI;\n",
    "import com.senzing.g2.engine.Result;"
   ]
  },
  {
   "cell_type": "markdown",
   "metadata": {},
   "source": [
    "### Helper class for Json Rendering"
   ]
  },
  {
   "cell_type": "code",
   "execution_count": null,
   "metadata": {},
   "outputs": [],
   "source": [
    "%%loadFromPOM\n",
    "<dependency>\n",
    "    <groupId>org.glassfish</groupId>\n",
    "    <artifactId>javax.json</artifactId>\n",
    "    <version>1.1.4</version>\n",
    "</dependency>"
   ]
  },
  {
   "cell_type": "code",
   "execution_count": null,
   "metadata": {},
   "outputs": [],
   "source": [
    "import javax.json.*;\n",
    "import static java.util.Collections.*;\n",
    "import static javax.json.stream.JsonGenerator.PRETTY_PRINTING;"
   ]
  },
  {
   "cell_type": "code",
   "execution_count": null,
   "metadata": {},
   "outputs": [],
   "source": [
    "public class JsonUtil {\n",
    "    private static final JsonWriterFactory PRETTY_FACTORY\n",
    "        = Json.createWriterFactory(singletonMap(PRETTY_PRINTING, true));\n",
    "        \n",
    "    private static final JsonWriterFactory UGLY_FACTORY\n",
    "        = Json.createWriterFactory(emptyMap());\n",
    "    \n",
    "    public static String toJsonText(JsonValue val) {\n",
    "        return toJsonText(val, true);\n",
    "    }\n",
    "\n",
    "    public static String toJsonText(JsonValue val, boolean prettyPrint) {\n",
    "        JsonWriterFactory factory = (prettyPrint) ? PRETTY_FACTORY : UGLY_FACTORY;\n",
    "        StringWriter sw = new StringWriter();\n",
    "        JsonWriter writer = factory.createWriter(sw);\n",
    "        writer.write(val);\n",
    "        sw.flush();\n",
    "        return sw.toString();\n",
    "    }\n",
    "    \n",
    "    public static JsonObject parseJsonObject(String jsonText) {\n",
    "        if (jsonText == null) return null;\n",
    "        StringReader sr = new StringReader(jsonText);\n",
    "        JsonReader jsonReader = Json.createReader(sr);\n",
    "        return jsonReader.readObject();\n",
    "  }\n",
    "\n",
    "    public static JsonArray parseJsonArray(String jsonText) {\n",
    "        if (jsonText == null) return null;\n",
    "        StringReader sr = new StringReader(jsonText);\n",
    "        JsonReader jsonReader = Json.createReader(sr);\n",
    "        return jsonReader.readArray();\n",
    "  }\n",
    "    \n",
    "    \n",
    "}"
   ]
  },
  {
   "cell_type": "code",
   "execution_count": null,
   "metadata": {},
   "outputs": [],
   "source": [
    "import java.util.UUID;\n",
    "public static void RenderJSON(String str){\n",
    "    JsonObject json = JsonUtil.parseJsonObject(str);\n",
    "    String Config = JsonUtil.toJsonText(json, false);\n",
    "    UUID id = UUID.randomUUID();\n",
    "    String uuid = id.toString();\n",
    "    String div = \"<div id=\\\"\"+ uuid +\"\\\" style=\\\"height:100%; width:100%; background-color: LightCyan\\\"></div>\";\n",
    "    display(div, \"text/html\");\n",
    "    String jav = \"require([\\\"https://rawgit.com/caldwell/renderjson/master/renderjson.js\\\"], function() {document.getElementById(\\'\"+ uuid +\"\\').appendChild(renderjson(\"+json+\"))});\";\n",
    "    display(jav, \"application/javascript\");\n",
    "}"
   ]
  },
  {
   "cell_type": "markdown",
   "metadata": {},
   "source": [
    "### Initialize Senzing configuration\n",
    "\n",
    "Using environment variables and default values, create `senzingConfigJson`.\n",
    "This value is used when instantiating Senzing objects."
   ]
  },
  {
   "cell_type": "code",
   "execution_count": null,
   "metadata": {},
   "outputs": [],
   "source": [
    "// Get variables used in constructing Senzing Engine configuration.\n",
    "String senzingConfigJson=System.getenv(\"SENZING_ENGINE_CONFIGURATION_JSON\");\n",
    "\n",
    "String configPath = System.getenv(\"SENZING_ETC_DIR\");\n",
    "if (configPath == null) {\n",
    "    configPath = \"/etc/opt/senzing\";\n",
    "}\n",
    "\n",
    "String supportPath = System.getenv(\"SENZING_DATA_VERSION_DIR\");\n",
    "if (supportPath == null) {\n",
    "    supportPath = \"/opt/senzing/data\";\n",
    "}\n",
    "\n",
    "String g2Path = System.getenv(\"SENZING_G2_DIR\");\n",
    "if (g2Path == null) {\n",
    "    g2Path = \"/opt/senzing/g2\";\n",
    "}\n",
    "\n",
    "String resourcePath = g2Path + \"/resources\";\n",
    "\n",
    "String sqlConnection = System.getenv(\"SENZING_SQL_CONNECTION\");\n",
    "if (sqlConnection == null) {\n",
    "    sqlConnection = \"sqlite3://na:na@/var/opt/senzing/sqlite/G2C.db\";\n",
    "}\n",
    "\n",
    "    // Construct the JSON string used for Senzing Engine configuration.\n",
    "if(senzingConfigJson==null)\n",
    "    senzingConfigJson = \"{\"\n",
    "       + \"\\\"PIPELINE\\\": {\"\n",
    "       +     \"\\\"CONFIGPATH\\\": \\\"\" + configPath + \"\\\",\"\n",
    "       +     \"\\\"SUPPORTPATH\\\": \\\"\" + supportPath + \"\\\",\"\n",
    "       +     \"\\\"RESOURCEPATH\\\": \\\"\" + resourcePath + \"\\\"\"\n",
    "       + \"},\"\n",
    "       + \"\\\"SQL\\\": {\"\n",
    "       +     \"\\\"CONNECTION\\\": \\\"\" + sqlConnection + \"\\\"\"\n",
    "       + \"}}\";\n",
    "\n",
    "RenderJSON(senzingConfigJson);"
   ]
  },
  {
   "cell_type": "markdown",
   "metadata": {},
   "source": [
    "## G2Engine"
   ]
  },
  {
   "cell_type": "markdown",
   "metadata": {},
   "source": [
    "### G2Engine initialization\n",
    "\n",
    "To start using Senzing G2Engine, create and initialize an instance.\n",
    "This should be done once per process.\n",
    "The `initV2()` method accepts the following parameters:\n",
    "\n",
    "- **moduleName:** A short name given to this instance of the G2Engine\n",
    "  object.\n",
    "- **senzingConfigJson:** A JSON string containing configuration parameters.\n",
    "- **verboseLogging:** A boolean which enables diagnostic logging.\n",
    "- **configID:** (optional) The identifier value for the engine configuration\n",
    "  can be returned here.\n",
    "\n",
    "Calling this function will return \"0\" upon success."
   ]
  },
  {
   "cell_type": "code",
   "execution_count": null,
   "metadata": {},
   "outputs": [],
   "source": [
    "G2Engine g2engine = new G2JNI();\n",
    "\n",
    "String moduleName = \"ExampleG2Engine\";\n",
    "boolean verboseLogging = true;\n",
    "int return_code = g2engine.init(moduleName, senzingConfigJson, verboseLogging);\n",
    "System.out.print(return_code);"
   ]
  },
  {
   "cell_type": "markdown",
   "metadata": {},
   "source": [
    "### exportConfig\n",
    "\n",
    "Call `exportConfig()` to retrieve your Senzing engine's configuration.\n",
    "The call will assign a JSON document to a user-designated buffer,\n",
    "containing all relevant configuration information\n",
    "-- the function itself will return \"0\" upon success.\n",
    "The exportConfig function accepts the following parameters as input:\n",
    "\n",
    "- **response:** The memory buffer to retrieve the JSON\n",
    "  configuration document\n",
    "- **configID:** The identifier value for the engine configuration\n",
    "  can be returned here."
   ]
  },
  {
   "cell_type": "code",
   "execution_count": null,
   "metadata": {},
   "outputs": [],
   "source": [
    "StringBuffer response = new StringBuffer();\n",
    "Result<Long> configID = new Result<Long>();\n",
    "\n",
    "g2engine.exportConfig(response, configID);\n",
    "System.out.println(\"Config ID: \"+configID.getValue());\n",
    "System.out.println(response);"
   ]
  }
 ],
 "metadata": {
  "kernelspec": {
   "display_name": "Java",
   "language": "java",
   "name": "java"
  },
  "language_info": {
   "codemirror_mode": "java",
   "file_extension": ".jshell",
   "mimetype": "text/x-java-source",
   "name": "Java",
   "pygments_lexer": "java",
   "version": "11.0.8+10-post-Ubuntu-0ubuntu118.04.1"
  },
  "toc": {
   "base_numbering": 1,
   "nav_menu": {},
   "number_sections": true,
   "sideBar": true,
   "skip_h1_title": true,
   "title_cell": "Table of Contents",
   "title_sidebar": "Contents",
   "toc_cell": false,
   "toc_position": {},
   "toc_section_display": true,
   "toc_window_display": true
  }
 },
 "nbformat": 4,
 "nbformat_minor": 4
}
