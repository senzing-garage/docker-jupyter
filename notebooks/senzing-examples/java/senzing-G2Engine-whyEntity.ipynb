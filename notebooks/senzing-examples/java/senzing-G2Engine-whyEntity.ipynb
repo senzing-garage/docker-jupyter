{
 "cells": [
  {
   "cell_type": "markdown",
   "metadata": {},
   "source": [
    "# G2Engine Guide - Why Entities\n",
    "\n",
    "More information:\n",
    "\n",
    "* [G2Engine Reference](senzing-G2Engine-reference.ipynb)"
   ]
  },
  {
   "cell_type": "markdown",
   "metadata": {},
   "source": [
    "## Prepare environment "
   ]
  },
  {
   "cell_type": "code",
   "execution_count": null,
   "metadata": {},
   "outputs": [],
   "source": [
    "import com.senzing.g2.engine.G2Engine;\n",
    "import com.senzing.g2.engine.G2JNI;\n",
    "import com.senzing.g2.engine.Result;"
   ]
  },
  {
   "cell_type": "markdown",
   "metadata": {},
   "source": [
    "### Helper class for Json Rendering"
   ]
  },
  {
   "cell_type": "code",
   "execution_count": null,
   "metadata": {},
   "outputs": [],
   "source": [
    "%%loadFromPOM\n",
    "<dependency>\n",
    "    <groupId>org.glassfish</groupId>\n",
    "    <artifactId>javax.json</artifactId>\n",
    "    <version>1.1.4</version>\n",
    "</dependency>"
   ]
  },
  {
   "cell_type": "code",
   "execution_count": null,
   "metadata": {},
   "outputs": [],
   "source": [
    "import javax.json.*;\n",
    "import java.util.Map;\n",
    "import java.util.HashMap;\n",
    "import static java.util.Collections.*;\n",
    "import static javax.json.stream.JsonGenerator.PRETTY_PRINTING;\n",
    "\n",
    "public class JsonUtil {\n",
    "    private static final JsonWriterFactory PRETTY_FACTORY\n",
    "        = Json.createWriterFactory(singletonMap(PRETTY_PRINTING, true));\n",
    "        \n",
    "    private static final JsonWriterFactory UGLY_FACTORY\n",
    "        = Json.createWriterFactory(emptyMap());\n",
    "    \n",
    "    public static String toJsonText(JsonValue val) {\n",
    "        return toJsonText(val, true);\n",
    "    }\n",
    "\n",
    "    public static String toJsonText(JsonValue val, boolean prettyPrint) {\n",
    "        JsonWriterFactory factory = (prettyPrint) ? PRETTY_FACTORY : UGLY_FACTORY;\n",
    "        StringWriter sw = new StringWriter();\n",
    "        JsonWriter writer = factory.createWriter(sw);\n",
    "        writer.write(val);\n",
    "        sw.flush();\n",
    "        return sw.toString();\n",
    "    }\n",
    "    \n",
    "    public static JsonObject parseJsonObject(String jsonText) {\n",
    "        if (jsonText == null) return null;\n",
    "        StringReader sr = new StringReader(jsonText);\n",
    "        JsonReader jsonReader = Json.createReader(sr);\n",
    "        return jsonReader.readObject();\n",
    "  }\n",
    "\n",
    "    public static JsonArray parseJsonArray(String jsonText) {\n",
    "        if (jsonText == null) return null;\n",
    "        StringReader sr = new StringReader(jsonText);\n",
    "        JsonReader jsonReader = Json.createReader(sr);\n",
    "        return jsonReader.readArray();\n",
    "  }\n",
    "    \n",
    "    \n",
    "}"
   ]
  },
  {
   "cell_type": "code",
   "execution_count": null,
   "metadata": {},
   "outputs": [],
   "source": [
    "import java.util.UUID;\n",
    "public static void RenderJSON(Object obj){\n",
    "    String str = obj.toString();\n",
    "    JsonObject json = JsonUtil.parseJsonObject(str);\n",
    "    String Config = JsonUtil.toJsonText(json, false);\n",
    "    UUID id = UUID.randomUUID();\n",
    "    String uuid = id.toString();\n",
    "    String div = \"<div id=\\\"\"+ uuid +\"\\\" style=\\\"height:100%; width:100%; background-color: LightCyan\\\"></div>\";\n",
    "    display(div, \"text/html\");\n",
    "    String jav = \"require([\\\"https://rawgit.com/caldwell/renderjson/master/renderjson.js\\\"], function() {document.getElementById(\\'\"+ uuid +\"\\').appendChild(renderjson(\"+json+\"))});\";\n",
    "    display(jav, \"application/javascript\");\n",
    "}"
   ]
  },
  {
   "cell_type": "markdown",
   "metadata": {},
   "source": [
    "### Initialize Senzing configuration\n",
    "\n",
    "Run [senzing-G2ConfigMgr-reference.ipynb](senzing-G2ConfigMgr-reference.ipynb)\n",
    "to install a Senzing Engine configuration in the database."
   ]
  },
  {
   "cell_type": "code",
   "execution_count": null,
   "metadata": {},
   "outputs": [],
   "source": [
    "// Get variables used in constructing Senzing Engine configuration.\n",
    "String senzingConfigJson=System.getenv(\"SENZING_ENGINE_CONFIGURATION_JSON\");\n",
    "\n",
    "String configPath = System.getenv(\"SENZING_ETC_DIR\");\n",
    "if (configPath == null) {\n",
    "    configPath = \"/etc/opt/senzing\";\n",
    "}\n",
    "\n",
    "String supportPath = System.getenv(\"SENZING_DATA_VERSION_DIR\");\n",
    "if (supportPath == null) {\n",
    "    supportPath = \"/opt/senzing/data\";\n",
    "}\n",
    "\n",
    "String g2Path = System.getenv(\"SENZING_G2_DIR\");\n",
    "if (g2Path == null) {\n",
    "    g2Path = \"/opt/senzing/g2\";\n",
    "}\n",
    "\n",
    "String resourcePath = g2Path + \"/resources\";\n",
    "\n",
    "String sqlConnection = System.getenv(\"SENZING_SQL_CONNECTION\");\n",
    "if (sqlConnection == null) {\n",
    "    sqlConnection = \"sqlite3://na:na@/var/opt/senzing/sqlite/G2C.db\";\n",
    "}\n",
    "\n",
    "    // Construct the JSON string used for Senzing Engine configuration.\n",
    "if(senzingConfigJson==null)\n",
    "    senzingConfigJson = \"{\"\n",
    "       + \"\\\"PIPELINE\\\": {\"\n",
    "       +     \"\\\"CONFIGPATH\\\": \\\"\" + configPath + \"\\\",\"\n",
    "       +     \"\\\"SUPPORTPATH\\\": \\\"\" + supportPath + \"\\\",\"\n",
    "       +     \"\\\"RESOURCEPATH\\\": \\\"\" + resourcePath + \"\\\"\"\n",
    "       + \"},\"\n",
    "       + \"\\\"SQL\\\": {\"\n",
    "       +     \"\\\"CONNECTION\\\": \\\"\" + sqlConnection + \"\\\"\"\n",
    "       + \"}}\";\n",
    "\n",
    "RenderJSON(senzingConfigJson);"
   ]
  },
  {
   "cell_type": "markdown",
   "metadata": {},
   "source": [
    "## G2Engine"
   ]
  },
  {
   "cell_type": "code",
   "execution_count": null,
   "metadata": {},
   "outputs": [],
   "source": [
    "G2Engine g2engine = new G2JNI();\n",
    "\n",
    "String moduleName = \"ExampleG2Engine\";\n",
    "boolean verboseLogging = true;\n",
    "int returnCode = g2engine.init(moduleName, senzingConfigJson, verboseLogging);\n",
    "System.out.print(returnCode);"
   ]
  },
  {
   "cell_type": "code",
   "execution_count": null,
   "metadata": {},
   "outputs": [],
   "source": [
    "int returnCode = g2engine.purgeRepository();\n",
    "System.out.print(returnCode);"
   ]
  },
  {
   "cell_type": "markdown",
   "metadata": {},
   "source": [
    "### Insert records\n",
    "\n",
    "Details at [G2Engine.addRecord](senzing-G2Engine-reference.ipynb#addRecord)."
   ]
  },
  {
   "cell_type": "markdown",
   "metadata": {},
   "source": [
    "#### Insert record 1"
   ]
  },
  {
   "cell_type": "code",
   "execution_count": null,
   "metadata": {},
   "outputs": [],
   "source": [
    "String dataSourceCode = \"TEST\";\n",
    "String recordID = \"1\";\n",
    "String jsonData =  \"{\\\"NAME_TYPE\\\": \\\"PRIMARY\\\", \\\"NAME_FIRST\\\": \\\"Bob\\\", \\\"NAME_LAST\\\": \\\"Max\\\", \\\"PHONE_NUMBER\\\": \\\"123-456-7899\\\"}\";\n",
    "String loadID = null;\n",
    "\n",
    "int returnCode = g2engine.addRecord(dataSourceCode, recordID, jsonData, loadID);\n",
    "System.out.print(returnCode);"
   ]
  },
  {
   "cell_type": "markdown",
   "metadata": {},
   "source": [
    "#### Insert record 2"
   ]
  },
  {
   "cell_type": "code",
   "execution_count": null,
   "metadata": {},
   "outputs": [],
   "source": [
    "String dataSourceCode = \"TEST\";\n",
    "String recordID = \"3\";\n",
    "String jsonData =  \"{\\\"NAME_TYPE\\\": \\\"PRIMARY\\\", \\\"NAME_FIRST\\\": \\\"Robart\\\", \\\"NAME_LAST\\\": \\\"Max\\\", \\\"ADDR_FULL\\\": \\\"456 Funny ST\\\"}\";\n",
    "String loadID = null;\n",
    "\n",
    "int returnCode = g2engine.addRecord(dataSourceCode, recordID, jsonData, loadID);\n",
    "System.out.print(returnCode);"
   ]
  },
  {
   "cell_type": "markdown",
   "metadata": {},
   "source": [
    "#### Insert record 3"
   ]
  },
  {
   "cell_type": "code",
   "execution_count": null,
   "metadata": {},
   "outputs": [],
   "source": [
    "String dataSourceCode = \"TEST\";\n",
    "String recordID = \"2\";\n",
    "String jsonData =  \"{\\\"NAMES\\\": [{ \\\"NAME_TYPE\\\": \\\"PRIMARY\\\", \\\"NAME_FIRST\\\": \\\"Bob\\\", \\\"NAME_LAST\\\": \\\"Max\\\", \\\"MIDDLE_NAME\\\": \\\"S\\\"}], \\\"ADDR_FULL\\\": \\\"456 Funny ST\\\", \\\"PHONE_NUMBER\\\": \\\"123-456-7899\\\"}\";\n",
    "String loadID = null;\n",
    "\n",
    "int returnCode = g2engine.addRecord(dataSourceCode, recordID, jsonData, loadID);\n",
    "System.out.print(returnCode);"
   ]
  },
  {
   "cell_type": "markdown",
   "metadata": {},
   "source": [
    "### Ask Why\n",
    "\n",
    "Details at [G2Engine.whyEntityByRecordID](senzing-G2Engine-reference.ipynb#whyEntityByRecordID)."
   ]
  },
  {
   "cell_type": "code",
   "execution_count": null,
   "metadata": {
    "scrolled": true
   },
   "outputs": [],
   "source": [
    "String datasource_code = \"TEST\";\n",
    "String recordID = \"2\";\n",
    "StringBuffer response = new StringBuffer();\n",
    "int returncode = g2engine.whyEntityByRecordID(datasource_code, recordID, response);\n",
    "RenderJSON(response);"
   ]
  },
  {
   "cell_type": "markdown",
   "metadata": {},
   "source": [
    "#### Start constructing final report"
   ]
  },
  {
   "cell_type": "code",
   "execution_count": null,
   "metadata": {},
   "outputs": [],
   "source": [
    "JsonObject finalResult = JsonUtil.parseJsonObject(\"{\\\"Data_source\\\": \\\"\"+datasource_code+\"\\\", \\\"Record_ID\\\": \\\"\"+recordID+\"\\\"}\");"
   ]
  },
  {
   "cell_type": "markdown",
   "metadata": {},
   "source": [
    "#### Get the main document data sections"
   ]
  },
  {
   "cell_type": "code",
   "execution_count": null,
   "metadata": {
    "scrolled": true
   },
   "outputs": [],
   "source": [
    "JsonObject resp = JsonUtil.parseJsonObject(response.toString());\n",
    "JsonArray resp1 = resp.getJsonArray(\"WHY_RESULTS\");\n",
    "JsonObject why_result = resp1.getJsonObject(0);\n",
    "JsonObject focus_records = why_result.getJsonArray(\"FOCUS_RECORDS\").getJsonObject(0);\n",
    "\n",
    "if(focus_records.get(\"DATA_SOURCE\").equals(finalResult.get(\"Data_source\")) && focus_records.get(\"RECORD_ID\").equals(finalResult.get(\"Record_ID\")));\n",
    "    finalResult = Json.createObjectBuilder(finalResult).add(\"ENTITY_ID\", why_result.get(\"ENTITY_ID\")).build();\n",
    "\n",
    "RenderJSON(finalResult);"
   ]
  },
  {
   "cell_type": "markdown",
   "metadata": {},
   "source": [
    "#### Get the basic why results"
   ]
  },
  {
   "cell_type": "code",
   "execution_count": null,
   "metadata": {
    "scrolled": true
   },
   "outputs": [],
   "source": [
    "JsonObject match_info = why_result.getJsonObject(\"MATCH_INFO\");\n",
    "RenderJSON(match_info);\n",
    "finalResult = Json.createObjectBuilder(finalResult).add(\"Why_key\", match_info.get(\"WHY_KEY\")).build();\n",
    "finalResult = Json.createObjectBuilder(finalResult).add(\"Why_ER_rule_code\", match_info.get(\"WHY_ERRULE_CODE\")).build();\n",
    "RenderJSON(finalResult);"
   ]
  },
  {
   "cell_type": "code",
   "execution_count": null,
   "metadata": {
    "scrolled": false
   },
   "outputs": [],
   "source": [
    "JsonObject nameFeatureDictionary = JsonUtil.parseJsonObject(\"{\\\"NAME_KEY\\\": []}\");\n",
    "int name_size = match_info.getJsonObject(\"CANDIDATE_KEYS\").getJsonArray(\"NAME_KEY\").size()-1;\n",
    "JsonObject name_key = match_info.getJsonObject(\"CANDIDATE_KEYS\").getJsonArray(\"NAME_KEY\").getJsonObject(name_size);\n",
    "JsonValue name = name_key.get(\"FEAT_DESC\");\n",
    "JsonObject nameFeature = Json.createObjectBuilder(nameFeatureDictionary).add(\"NAME_KEY\", name).build();\n",
    "RenderJSON(nameFeature);"
   ]
  }
 ],
 "metadata": {
  "kernelspec": {
   "display_name": "Java",
   "language": "java",
   "name": "java"
  },
  "language_info": {
   "codemirror_mode": "java",
   "file_extension": ".jshell",
   "mimetype": "text/x-java-source",
   "name": "Java",
   "pygments_lexer": "java",
   "version": "11.0.8+10-post-Ubuntu-0ubuntu118.04.1"
  },
  "toc": {
   "base_numbering": 1,
   "nav_menu": {},
   "number_sections": true,
   "sideBar": true,
   "skip_h1_title": true,
   "title_cell": "Table of Contents",
   "title_sidebar": "Contents",
   "toc_cell": false,
   "toc_position": {},
   "toc_section_display": true,
   "toc_window_display": true
  }
 },
 "nbformat": 4,
 "nbformat_minor": 4
}
